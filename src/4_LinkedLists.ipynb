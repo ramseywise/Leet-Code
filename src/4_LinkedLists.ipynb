{
 "cells": [
  {
   "cell_type": "markdown",
   "id": "8dea21f6",
   "metadata": {},
   "source": [
    "## Linked Lists\n",
    "    \n",
    "        - merge two linked list (easy)\n",
    "        - merge k sorted list (hard)\n",
    "        \n",
    "        TBD..\n",
    "        - reverse linked list (easy)\n",
    "        - remove nth node (medium)\n",
    "        - reorder list (medium)\n",
    "        - find duplicate (medium)"
   ]
  },
  {
   "cell_type": "markdown",
   "id": "52a39ac7",
   "metadata": {},
   "source": [
    "### Problem 14: longest common prefix"
   ]
  },
  {
   "cell_type": "code",
   "execution_count": 7,
   "id": "168911b3",
   "metadata": {},
   "outputs": [],
   "source": [
    "def longestCommonPrefix(strs):\n",
    "    \"\"\"Find the longest common prefix string amongst an array of strings.\"\"\"\n",
    "    if not strs: return \"\" # return empty str if not common prefix\n",
    "    for i in range(len(strs[0])): # loop each character of first word in array \n",
    "        char = strs[0][i]\n",
    "        for j in range(1,len(strs)): # loop for each individul word in array\n",
    "            if i == len(strs[j]) or strs[j][i] != char: # check if index of firat word matches following\n",
    "                return strs[0][i]\n",
    "    return strs[0]    "
   ]
  },
  {
   "cell_type": "code",
   "execution_count": 8,
   "id": "78d2f427",
   "metadata": {},
   "outputs": [
    {
     "data": {
      "text/plain": [
       "'fl'"
      ]
     },
     "execution_count": 8,
     "metadata": {},
     "output_type": "execute_result"
    }
   ],
   "source": [
    "strs = [\"flower\",\"flow\",\"flight\"]\n",
    "longestCommonPrefix(strs)"
   ]
  },
  {
   "cell_type": "code",
   "execution_count": null,
   "id": "e1f0b4fb",
   "metadata": {},
   "outputs": [],
   "source": []
  },
  {
   "cell_type": "markdown",
   "id": "6815c465",
   "metadata": {},
   "source": [
    "## 21. Merge Two Lists"
   ]
  },
  {
   "cell_type": "code",
   "execution_count": null,
   "id": "9c320bd9",
   "metadata": {},
   "outputs": [],
   "source": [
    "class Solution:\n",
    "    def mergeTwoLists(self, l1: ListNode, l2: ListNode) -> ListNode:\n",
    "        \"\"\"Merge the two lists in a one sorted list. The list should be made by splicing together the nodes of the first two lists..\"\"\"\n",
    "        dummy = ListNode()\n",
    "        tail = dummy\n",
    "        \n",
    "        while l1 and l2:\n",
    "            if l1.val < l2.val:\n",
    "                tail.next = l1\n",
    "                l1 = l1.next\n",
    "            else:\n",
    "                tail.next = l2\n",
    "                l2 = l2.next\n",
    "            tail = tail.next\n",
    "        \n",
    "        if l1:\n",
    "            tail.next = l1\n",
    "        elif l2:\n",
    "            tail.next = l2\n",
    "        \n",
    "        return dummy.next\n",
    "    \n",
    "    \n",
    "list1 = [1,2,4], list2 = [1,3,4]"
   ]
  },
  {
   "cell_type": "code",
   "execution_count": null,
   "id": "f6099249",
   "metadata": {},
   "outputs": [],
   "source": []
  },
  {
   "cell_type": "markdown",
   "id": "08a804b7",
   "metadata": {},
   "source": [
    "## 23 Merge K Lists"
   ]
  },
  {
   "cell_type": "code",
   "execution_count": null,
   "id": "cd5005ae",
   "metadata": {},
   "outputs": [],
   "source": [
    "class Solution:\n",
    "    def mergeKLists(self, lists: List[ListNode]) -> ListNode:\n",
    "        \"\"\"Merge all the linked-lists into one sorted linked-list and return it.\"\"\"\n",
    "        if not lists or len(lists) == 0:\n",
    "            return None\n",
    "        \n",
    "        while len(lists) > 1:\n",
    "            mergedLists = []\n",
    "            for i in range(0, len(lists), 2):\n",
    "                l1 = lists[i]\n",
    "                l2 = lists[i + 1] if (i + 1) < len(lists) else None\n",
    "                mergedLists.append(self.mergeList(l1, l2))\n",
    "            lists = mergedLists\n",
    "        return lists[0]\n",
    "    \n",
    "    def mergeList(self, l1, l2):\n",
    "        dummy = ListNode()\n",
    "        tail = dummy\n",
    "        \n",
    "        while l1 and l2:\n",
    "            if l1.val < l2.val:\n",
    "                tail.next = l1\n",
    "                l1 = l1.next\n",
    "            else:\n",
    "                tail.next = l2\n",
    "                l2 = l2.next\n",
    "            tail = tail.next\n",
    "        if l1:\n",
    "            tail.next = l1\n",
    "        if l2:\n",
    "            tail.next = l2\n",
    "        return dummy.next\n",
    "\n",
    "lists = [[1,4,5],[1,3,4],[2,6]]"
   ]
  },
  {
   "cell_type": "code",
   "execution_count": null,
   "id": "13d18ea2",
   "metadata": {},
   "outputs": [],
   "source": []
  },
  {
   "cell_type": "markdown",
   "id": "7efa590a",
   "metadata": {},
   "source": [
    "### 206. Reverse Linked List"
   ]
  },
  {
   "cell_type": "code",
   "execution_count": null,
   "id": "44e3ec94",
   "metadata": {},
   "outputs": [],
   "source": [
    "def reverseLinkedList():\n",
    "    \"\"\"Given the head of a singly linked list, reverse the list, and return the reversed list.\"\"\"\n",
    "head = [1,2,3,4,5]"
   ]
  },
  {
   "cell_type": "code",
   "execution_count": null,
   "id": "e6934ec5",
   "metadata": {},
   "outputs": [],
   "source": []
  },
  {
   "cell_type": "code",
   "execution_count": null,
   "id": "25a07194",
   "metadata": {},
   "outputs": [],
   "source": []
  },
  {
   "cell_type": "code",
   "execution_count": null,
   "id": "10578bba",
   "metadata": {},
   "outputs": [],
   "source": []
  },
  {
   "cell_type": "code",
   "execution_count": null,
   "id": "3e209cbc",
   "metadata": {},
   "outputs": [],
   "source": []
  }
 ],
 "metadata": {
  "kernelspec": {
   "display_name": "Python 3 (ipykernel)",
   "language": "python",
   "name": "python3"
  },
  "language_info": {
   "codemirror_mode": {
    "name": "ipython",
    "version": 3
   },
   "file_extension": ".py",
   "mimetype": "text/x-python",
   "name": "python",
   "nbconvert_exporter": "python",
   "pygments_lexer": "ipython3",
   "version": "3.7.12"
  }
 },
 "nbformat": 4,
 "nbformat_minor": 5
}
