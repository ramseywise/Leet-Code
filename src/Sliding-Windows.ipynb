{
 "cells": [
  {
   "cell_type": "markdown",
   "id": "a5b14c3d",
   "metadata": {},
   "source": [
    "# LeetCode Problems"
   ]
  },
  {
   "cell_type": "markdown",
   "id": "b08fdd24",
   "metadata": {},
   "source": [
    "## Sliding Windows \n",
    "### 3. Longest Substring Without Repeating Characters"
   ]
  },
  {
   "cell_type": "code",
   "execution_count": 36,
   "id": "0dc43076",
   "metadata": {},
   "outputs": [
    {
     "name": "stdout",
     "output_type": "stream",
     "text": [
      "{'g', 's', 'd', 'f'}\n"
     ]
    }
   ],
   "source": [
    "def longestSubstring(s):\n",
    "    left, right = 0, 0\n",
    "    subs = s[0]\n",
    "    result = 1\n",
    "    chars = set(subs)\n",
    "    for right in range(1, len(s)):\n",
    "        if s[right] not in chars:\n",
    "            chars.add(s[right])\n",
    "    print(chars)\n",
    "    return\n",
    "\n",
    "longestSubstring('dsgsdfsd')"
   ]
  },
  {
   "cell_type": "code",
   "execution_count": null,
   "id": "5b87d859",
   "metadata": {},
   "outputs": [],
   "source": [
    "class Solution:\n",
    "    def lengthOfLongestSubstring(self, s: str) -> int:\n",
    "        charSet = set()\n",
    "        l = 0\n",
    "        res = 0\n",
    "        \n",
    "        for r in range(len(s)):\n",
    "            while s[r] in charSet:\n",
    "                charSet.remove(s[l])\n",
    "                l += 1\n",
    "            charSet.add(s[r])\n",
    "            res = max(res, r - l + 1)\n",
    "        return res"
   ]
  },
  {
   "cell_type": "code",
   "execution_count": null,
   "id": "eec98fca",
   "metadata": {},
   "outputs": [],
   "source": []
  },
  {
   "cell_type": "markdown",
   "id": "5358586f",
   "metadata": {},
   "source": [
    "### 121. Best Time to Buy and Sell Stock"
   ]
  },
  {
   "cell_type": "code",
   "execution_count": 21,
   "id": "7a6834ab",
   "metadata": {},
   "outputs": [
    {
     "name": "stdout",
     "output_type": "stream",
     "text": [
      "new buy 6 1\n",
      "new sell 6 1\n",
      "new buy 4 2\n",
      "new sell 4 2\n",
      "new buy 3 3\n",
      "new sell 3 3\n",
      "new buy 1 4\n",
      "new sell 1 4\n",
      "end result 0\n"
     ]
    }
   ],
   "source": [
    "def maxProfit(prices):\n",
    "    bestBuyPrice = prices[0]\n",
    "    bestBuyDay = 0\n",
    "    bestSellPrice = prices[0]\n",
    "    bestSellDay = 0\n",
    "    result = 0\n",
    "    for i in range(len(prices)):\n",
    "        if prices[i] < bestBuyPrice:\n",
    "            bestBuyPrice = prices[i]\n",
    "            bestBuyDay = i\n",
    "            print('new buy', bestBuyPrice, bestBuyDay)\n",
    "        if (prices[i] > bestSellPrice) | (bestSellPrice - bestBuyPrice > result):\n",
    "            bestSellPrice = prices[i]\n",
    "            bestSellDay = i\n",
    "            print('new sell', bestSellPrice, bestSellDay)\n",
    "        if (bestSellPrice - bestBuyPrice > result) & (bestSellDay > bestBuyDay):\n",
    "            result = bestSellPrice - bestBuyPrice\n",
    "            print('new maxProfit', result)\n",
    "    return result\n",
    "\n",
    "prices = [7,6,4,3,1]\n",
    "print('end result', maxProfit(prices))"
   ]
  },
  {
   "cell_type": "code",
   "execution_count": null,
   "id": "2dfbfc73",
   "metadata": {},
   "outputs": [],
   "source": [
    "def maxProfit(prices):\n",
    "    l,r = 0,1 #left=buy, right=sell\n",
    "    maxP = 0\n",
    "    while r < len(prices):\n",
    "        if prices[l] < prices[r]: # buy low, sell high = profit\n",
    "            profit = prices[r] - prices[l]\n",
    "            maxP = max(maxP, profit)\n",
    "        else:\n",
    "            l += 1 # increase left window if not profitable\n",
    "        r += 1 # increase right window \n",
    "\n",
    "    return maxP"
   ]
  },
  {
   "cell_type": "code",
   "execution_count": null,
   "id": "8a331a54",
   "metadata": {},
   "outputs": [],
   "source": [
    "class Solution:\n",
    "    def maxProfit(self, prices: List[int]) -> int:\n",
    "        res = 0\n",
    "        \n",
    "        l = 0\n",
    "        for r in range(1, len(prices)):\n",
    "            if prices[r] < prices[l]:\n",
    "                l = r\n",
    "            res = max(res, prices[r] - prices[l])\n",
    "        return res"
   ]
  },
  {
   "cell_type": "code",
   "execution_count": null,
   "id": "7872c7a2",
   "metadata": {},
   "outputs": [],
   "source": []
  },
  {
   "cell_type": "code",
   "execution_count": null,
   "id": "8d63378b",
   "metadata": {},
   "outputs": [],
   "source": []
  }
 ],
 "metadata": {
  "kernelspec": {
   "display_name": "Python 3 (ipykernel)",
   "language": "python",
   "name": "python3"
  },
  "language_info": {
   "codemirror_mode": {
    "name": "ipython",
    "version": 3
   },
   "file_extension": ".py",
   "mimetype": "text/x-python",
   "name": "python",
   "nbconvert_exporter": "python",
   "pygments_lexer": "ipython3",
   "version": "3.7.12"
  }
 },
 "nbformat": 4,
 "nbformat_minor": 5
}
