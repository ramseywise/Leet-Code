{
 "cells": [
  {
   "cell_type": "markdown",
   "id": "d859604e",
   "metadata": {},
   "source": [
    "# LeetCode Problems"
   ]
  },
  {
   "cell_type": "markdown",
   "id": "eda7d4ad",
   "metadata": {},
   "source": [
    "## Linked Lists"
   ]
  },
  {
   "cell_type": "markdown",
   "id": "4d37ec4e",
   "metadata": {},
   "source": [
    "### Problem 14: longest common prefix"
   ]
  },
  {
   "cell_type": "code",
   "execution_count": 7,
   "id": "da68098b",
   "metadata": {},
   "outputs": [],
   "source": [
    "def longestCommonPrefix(strs):\n",
    "    \"\"\"Find the longest common prefix string amongst an array of strings.\"\"\"\n",
    "    if not strs: return \"\" # return empty str if not common prefix\n",
    "    for i in range(len(strs[0])): # loop each character of first word in array \n",
    "        char = strs[0][i]\n",
    "        for j in range(1,len(strs)): # loop for each individul word in array\n",
    "            if i == len(strs[j]) or strs[j][i] != char: # check if index of firat word matches following\n",
    "                return strs[0][i]\n",
    "    return strs[0]    "
   ]
  },
  {
   "cell_type": "code",
   "execution_count": 8,
   "id": "09ed1ed8",
   "metadata": {},
   "outputs": [
    {
     "data": {
      "text/plain": [
       "'fl'"
      ]
     },
     "execution_count": 8,
     "metadata": {},
     "output_type": "execute_result"
    }
   ],
   "source": [
    "strs = [\"flower\",\"flow\",\"flight\"]\n",
    "longestCommonPrefix(strs)"
   ]
  },
  {
   "cell_type": "code",
   "execution_count": null,
   "id": "58879572",
   "metadata": {},
   "outputs": [],
   "source": []
  },
  {
   "cell_type": "markdown",
   "id": "27ebf0cb",
   "metadata": {},
   "source": [
    "## 21 Merge Two Lists"
   ]
  },
  {
   "cell_type": "code",
   "execution_count": null,
   "id": "dfbdab96",
   "metadata": {},
   "outputs": [],
   "source": [
    "class Solution:\n",
    "    def mergeTwoLists(self, l1: ListNode, l2: ListNode) -> ListNode:\n",
    "        dummy = ListNode()\n",
    "        tail = dummy\n",
    "        \n",
    "        while l1 and l2:\n",
    "            if l1.val < l2.val:\n",
    "                tail.next = l1\n",
    "                l1 = l1.next\n",
    "            else:\n",
    "                tail.next = l2\n",
    "                l2 = l2.next\n",
    "            tail = tail.next\n",
    "        \n",
    "        if l1:\n",
    "            tail.next = l1\n",
    "        elif l2:\n",
    "            tail.next = l2\n",
    "        \n",
    "        return dummy.next"
   ]
  },
  {
   "cell_type": "code",
   "execution_count": null,
   "id": "4a136d9b",
   "metadata": {},
   "outputs": [],
   "source": []
  },
  {
   "cell_type": "markdown",
   "id": "91fedaa9",
   "metadata": {},
   "source": [
    "## 23 Merge K Lists"
   ]
  },
  {
   "cell_type": "code",
   "execution_count": null,
   "id": "aa231c74",
   "metadata": {},
   "outputs": [],
   "source": [
    "class Solution:\n",
    "    def mergeKLists(self, lists: List[ListNode]) -> ListNode:\n",
    "        if not lists or len(lists) == 0:\n",
    "            return None\n",
    "        \n",
    "        while len(lists) > 1:\n",
    "            mergedLists = []\n",
    "            for i in range(0, len(lists), 2):\n",
    "                l1 = lists[i]\n",
    "                l2 = lists[i + 1] if (i + 1) < len(lists) else None\n",
    "                mergedLists.append(self.mergeList(l1, l2))\n",
    "            lists = mergedLists\n",
    "        return lists[0]\n",
    "    \n",
    "    def mergeList(self, l1, l2):\n",
    "        dummy = ListNode()\n",
    "        tail = dummy\n",
    "        \n",
    "        while l1 and l2:\n",
    "            if l1.val < l2.val:\n",
    "                tail.next = l1\n",
    "                l1 = l1.next\n",
    "            else:\n",
    "                tail.next = l2\n",
    "                l2 = l2.next\n",
    "            tail = tail.next\n",
    "        if l1:\n",
    "            tail.next = l1\n",
    "        if l2:\n",
    "            tail.next = l2\n",
    "        return dummy.next"
   ]
  },
  {
   "cell_type": "code",
   "execution_count": null,
   "id": "b7ba13f7",
   "metadata": {},
   "outputs": [],
   "source": []
  },
  {
   "cell_type": "code",
   "execution_count": null,
   "id": "84193915",
   "metadata": {},
   "outputs": [],
   "source": []
  }
 ],
 "metadata": {
  "kernelspec": {
   "display_name": "Python 3 (ipykernel)",
   "language": "python",
   "name": "python3"
  },
  "language_info": {
   "codemirror_mode": {
    "name": "ipython",
    "version": 3
   },
   "file_extension": ".py",
   "mimetype": "text/x-python",
   "name": "python",
   "nbconvert_exporter": "python",
   "pygments_lexer": "ipython3",
   "version": "3.7.12"
  }
 },
 "nbformat": 4,
 "nbformat_minor": 5
}
