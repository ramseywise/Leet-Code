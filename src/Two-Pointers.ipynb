{
 "cells": [
  {
   "cell_type": "markdown",
   "id": "36a09d1a",
   "metadata": {},
   "source": [
    "# LeetCode Problems"
   ]
  },
  {
   "cell_type": "markdown",
   "id": "54879ae4",
   "metadata": {},
   "source": [
    "## Two Pointers"
   ]
  },
  {
   "cell_type": "markdown",
   "id": "c5cbc9ce",
   "metadata": {},
   "source": [
    "### Problem 9: Check if Palindrome with integer only"
   ]
  },
  {
   "cell_type": "code",
   "execution_count": 3,
   "id": "908bf1ca",
   "metadata": {},
   "outputs": [],
   "source": [
    "def isPalindrome(x):\n",
    "    \"\"\"Assert whether number reads the same backwards and forwards using math.log.\"\"\"\n",
    "    temp=x # store integer as temporary value\n",
    "    rev=0 # create reverse variable\n",
    "    while(x>0):\n",
    "        dig=x%10 # % modulus operator stores last digit of number\n",
    "        rev=rev*10+dig # last digit stored as reverse\n",
    "        x=x//10 # // divides number and rounds quotient to whole number\n",
    "    \n",
    "    return print(temp==rev) # convert to str, count down beginning to end by 1"
   ]
  },
  {
   "cell_type": "code",
   "execution_count": 4,
   "id": "569fcb7a",
   "metadata": {},
   "outputs": [
    {
     "name": "stdout",
     "output_type": "stream",
     "text": [
      "True\n"
     ]
    }
   ],
   "source": [
    "# ex 1\n",
    "x = 121    \n",
    "isPalindrome(x)"
   ]
  },
  {
   "cell_type": "markdown",
   "id": "a7d95e2b",
   "metadata": {},
   "source": [
    "### Problem 9a: Palindrome with string"
   ]
  },
  {
   "cell_type": "code",
   "execution_count": 84,
   "id": "3697f0db",
   "metadata": {},
   "outputs": [],
   "source": [
    "def isPalindrome(x):\n",
    "    \"\"\"Assert whether number reads the same backwards and forwards.\"\"\"\n",
    "    \n",
    "    return str(x) == str(x)[::-1] # convert to str, count down beginning to end by 1"
   ]
  },
  {
   "cell_type": "code",
   "execution_count": 85,
   "id": "bda98f59",
   "metadata": {},
   "outputs": [
    {
     "data": {
      "text/plain": [
       "True"
      ]
     },
     "execution_count": 85,
     "metadata": {},
     "output_type": "execute_result"
    }
   ],
   "source": [
    "# ex 2\n",
    "x = 121    \n",
    "isPalindrome(x)"
   ]
  },
  {
   "cell_type": "code",
   "execution_count": 87,
   "id": "02e48d4a",
   "metadata": {},
   "outputs": [
    {
     "data": {
      "text/plain": [
       "False"
      ]
     },
     "execution_count": 87,
     "metadata": {},
     "output_type": "execute_result"
    }
   ],
   "source": [
    "# ex 3\n",
    "x = -121\n",
    "isPalindrome(x)"
   ]
  },
  {
   "cell_type": "markdown",
   "id": "2cb9475d",
   "metadata": {},
   "source": [
    "### Problem 9b: every odd number"
   ]
  },
  {
   "cell_type": "code",
   "execution_count": 93,
   "id": "b41cfa87",
   "metadata": {},
   "outputs": [],
   "source": [
    "def everyOdd(x):\n",
    "    \"\"\"Assert whether number reads the same backwards and forwards.\"\"\"\n",
    "    \n",
    "    return str(x)[::2] # convert to str, count down beginning to end by 1"
   ]
  },
  {
   "cell_type": "code",
   "execution_count": 94,
   "id": "b317f77e",
   "metadata": {},
   "outputs": [
    {
     "data": {
      "text/plain": [
       "'135790'"
      ]
     },
     "execution_count": 94,
     "metadata": {},
     "output_type": "execute_result"
    }
   ],
   "source": [
    "x = 12345678910\n",
    "everyOdd(x)"
   ]
  },
  {
   "cell_type": "code",
   "execution_count": null,
   "id": "673d0381",
   "metadata": {},
   "outputs": [],
   "source": []
  },
  {
   "cell_type": "code",
   "execution_count": null,
   "id": "772e25ad",
   "metadata": {},
   "outputs": [],
   "source": []
  }
 ],
 "metadata": {
  "kernelspec": {
   "display_name": "Python 3 (ipykernel)",
   "language": "python",
   "name": "python3"
  },
  "language_info": {
   "codemirror_mode": {
    "name": "ipython",
    "version": 3
   },
   "file_extension": ".py",
   "mimetype": "text/x-python",
   "name": "python",
   "nbconvert_exporter": "python",
   "pygments_lexer": "ipython3",
   "version": "3.7.12"
  }
 },
 "nbformat": 4,
 "nbformat_minor": 5
}
