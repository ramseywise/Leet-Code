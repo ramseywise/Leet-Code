{
 "cells": [
  {
   "cell_type": "markdown",
   "id": "bf9cc3cb",
   "metadata": {},
   "source": [
    "# LeetCode Problems"
   ]
  },
  {
   "cell_type": "markdown",
   "id": "42a8b320",
   "metadata": {},
   "source": [
    "## Arrays & Hashing\n",
    "### 1. Two Sum of Indices"
   ]
  },
  {
   "cell_type": "code",
   "execution_count": 79,
   "id": "e952b504",
   "metadata": {},
   "outputs": [],
   "source": [
    "def twoSumI(nums, target):\n",
    "    \"\"\" Return the indices of two numbers in a list that equal the target.\"\"\"\n",
    "    values = dict() # use dict to map complement of value to index it corresponds \n",
    "    for i, j in enumerate(nums): # map value j to index i\n",
    "        val = target - j # calculate corresponding value\n",
    "        if val > 0 and val in values: # check if value is positive and in dict\n",
    "            return [values[val], i] # if so, return index position of nums for value j in dict\n",
    "        values[j] = i # if corresponding value is not in dict, continue to second value in dict\n",
    "        \n",
    "    return []  # if no solution found, return emptyt list"
   ]
  },
  {
   "cell_type": "code",
   "execution_count": 80,
   "id": "16c182ab",
   "metadata": {},
   "outputs": [
    {
     "data": {
      "text/plain": [
       "[0, 1]"
      ]
     },
     "execution_count": 80,
     "metadata": {},
     "output_type": "execute_result"
    }
   ],
   "source": [
    "# ex 1\n",
    "target = 9\n",
    "nums = [2,7,11,15]\n",
    "twoSumI(nums, target)   "
   ]
  },
  {
   "cell_type": "code",
   "execution_count": 81,
   "id": "a3eaab9a",
   "metadata": {},
   "outputs": [
    {
     "data": {
      "text/plain": [
       "[]"
      ]
     },
     "execution_count": 81,
     "metadata": {},
     "output_type": "execute_result"
    }
   ],
   "source": [
    "# ex 2 --> no solution\n",
    "nums = [4,7,11,15]\n",
    "twoSumI(nums, target)   "
   ]
  },
  {
   "cell_type": "markdown",
   "id": "d69d2e65",
   "metadata": {},
   "source": [
    "### Problem 1a: Sum two numbers"
   ]
  },
  {
   "cell_type": "code",
   "execution_count": 105,
   "id": "1c70d8d8",
   "metadata": {},
   "outputs": [],
   "source": [
    "def twoSum(nums, target):\n",
    "    \"\"\" Return two numbers in a list that equal the target.\"\"\"\n",
    "    values = dict() # use dict to map complement of value to index it corresponds \n",
    "    for i, j in enumerate(nums): # map value j to index i\n",
    "        val = target - j # calculate corresponding value\n",
    "        if val > 0 and val in values: # check if value is positive and in dict\n",
    "            return val, j # if so, return index position of nums for value j in dict\n",
    "        values[j] = i # if corresponding value is not in dict, continue to second value in dict\n",
    "        \n",
    "    return []  # if no solution found, return emptyt list"
   ]
  },
  {
   "cell_type": "code",
   "execution_count": 106,
   "id": "25d7be22",
   "metadata": {},
   "outputs": [
    {
     "data": {
      "text/plain": [
       "(2, 7)"
      ]
     },
     "execution_count": 106,
     "metadata": {},
     "output_type": "execute_result"
    }
   ],
   "source": [
    "# ex 1\n",
    "target = 9\n",
    "nums = [2,7,11,15]\n",
    "twoSum(nums, target)   "
   ]
  },
  {
   "cell_type": "code",
   "execution_count": null,
   "id": "fd206c61",
   "metadata": {},
   "outputs": [],
   "source": []
  },
  {
   "cell_type": "markdown",
   "id": "07c63da8",
   "metadata": {},
   "source": [
    "### 217.Contains Duplicate"
   ]
  },
  {
   "cell_type": "code",
   "execution_count": 38,
   "id": "a812984e",
   "metadata": {},
   "outputs": [
    {
     "data": {
      "text/plain": [
       "{1, 2, 3, 4, 5}"
      ]
     },
     "execution_count": 38,
     "metadata": {},
     "output_type": "execute_result"
    }
   ],
   "source": [
    "# get unique numbers\n",
    "nums = [1,4,5,1,2,3,1]\n",
    "set(nums)"
   ]
  },
  {
   "cell_type": "code",
   "execution_count": 2,
   "id": "5cb937fe",
   "metadata": {},
   "outputs": [
    {
     "name": "stdout",
     "output_type": "stream",
     "text": [
      "(1, 'Washington')\n",
      "(2, 'Adams')\n",
      "(3, 'Jefferson')\n",
      "(4, 'Madison')\n",
      "(5, 'Monroe')\n",
      "(6, 'Adams')\n",
      "(7, 'Jackson')\n"
     ]
    }
   ],
   "source": [
    "# indexing with enumerate --> returns iterator object (index, element)\n",
    "presidents = [\"Washington\", \"Adams\", \"Jefferson\", \"Madison\", \"Monroe\", \"Adams\", \"Jackson\"]\n",
    "for i in enumerate(presidents, start=1):\n",
    "    print(i)"
   ]
  },
  {
   "cell_type": "code",
   "execution_count": 2,
   "id": "229184c3",
   "metadata": {},
   "outputs": [
    {
     "name": "stdout",
     "output_type": "stream",
     "text": [
      "President 1: Washington\n",
      "President 2: Adams\n",
      "President 3: Jefferson\n",
      "President 4: Madison\n",
      "President 5: Monroe\n",
      "President 6: Adams\n",
      "President 7: Jackson\n"
     ]
    }
   ],
   "source": [
    "# indexing with range() --> index [i] and element presidents[i] are separate\n",
    "presidents = [\"Washington\", \"Adams\", \"Jefferson\", \"Madison\", \"Monroe\", \"Adams\", \"Jackson\"]\n",
    "for i in range(len(presidents)):\n",
    "    print(\"President {}: {}\".format(i + 1, presidents[i]))"
   ]
  },
  {
   "cell_type": "code",
   "execution_count": 3,
   "id": "4c7713ea",
   "metadata": {},
   "outputs": [
    {
     "data": {
      "text/plain": [
       "['Adams', 'Adams', 'Jackson', 'Jefferson', 'Madison', 'Monroe', 'Washington']"
      ]
     },
     "execution_count": 3,
     "metadata": {},
     "output_type": "execute_result"
    }
   ],
   "source": [
    "# sort elements in list\n",
    "sorted(presidents)"
   ]
  },
  {
   "cell_type": "code",
   "execution_count": 4,
   "id": "87baac9b",
   "metadata": {},
   "outputs": [
    {
     "data": {
      "text/plain": [
       "{'Adams', 'Jackson', 'Jefferson', 'Madison', 'Monroe', 'Washington'}"
      ]
     },
     "execution_count": 4,
     "metadata": {},
     "output_type": "execute_result"
    }
   ],
   "source": [
    "# get unique elements in list\n",
    "set(presidents)"
   ]
  },
  {
   "cell_type": "code",
   "execution_count": 36,
   "id": "1be2a7e6",
   "metadata": {},
   "outputs": [
    {
     "data": {
      "text/plain": [
       "True"
      ]
     },
     "execution_count": 36,
     "metadata": {},
     "output_type": "execute_result"
    }
   ],
   "source": [
    "    def containsDuplicate(nums):\n",
    "        #sort(nums)\n",
    "        nums = sorted(nums) # first sort list\n",
    "        for x in range(len(nums)-1): # create index of elements in list starting with 0\n",
    "            if nums[x]==nums[x+1]: \n",
    "                return True\n",
    "            \n",
    "        return False\n",
    "\n",
    "nums = [1,2,3,5,78,9,2]\n",
    "containsDuplicate(nums)"
   ]
  },
  {
   "cell_type": "code",
   "execution_count": null,
   "id": "b6020c3b",
   "metadata": {},
   "outputs": [],
   "source": []
  },
  {
   "cell_type": "code",
   "execution_count": null,
   "id": "4f1f1f9e",
   "metadata": {},
   "outputs": [],
   "source": []
  },
  {
   "cell_type": "code",
   "execution_count": null,
   "id": "b1758cb1",
   "metadata": {},
   "outputs": [],
   "source": []
  },
  {
   "cell_type": "code",
   "execution_count": null,
   "id": "57d3437c",
   "metadata": {},
   "outputs": [],
   "source": []
  }
 ],
 "metadata": {
  "kernelspec": {
   "display_name": "Python 3 (ipykernel)",
   "language": "python",
   "name": "python3"
  },
  "language_info": {
   "codemirror_mode": {
    "name": "ipython",
    "version": 3
   },
   "file_extension": ".py",
   "mimetype": "text/x-python",
   "name": "python",
   "nbconvert_exporter": "python",
   "pygments_lexer": "ipython3",
   "version": "3.7.12"
  }
 },
 "nbformat": 4,
 "nbformat_minor": 5
}
