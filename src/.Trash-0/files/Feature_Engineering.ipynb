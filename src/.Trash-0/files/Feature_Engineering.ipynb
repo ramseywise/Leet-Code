{
 "cells": [
  {
   "cell_type": "markdown",
   "id": "6b10de78",
   "metadata": {},
   "source": [
    "## Trade Republic Case Study \n",
    "# Part 1 | Feature Engineering\n",
    "\n",
    "`Customer Activity`:\n",
    "   - **total_duration_of_trades**, i.e., how long has a customer been trading?\n",
    "   - **mean_days_between_trades**, i.e., how often does the customer make trades on average?\n",
    "   - **total_trades**, i.e., how many trades has the customer made in total?\n",
    "   - **max_days_between_trades**, i.e., what is the longest period of dormancy for a customer?\n",
    "   - **sum_days_between_trades**, i.e., how many days in total are customers dormant during the trade window?\n",
    "   - NOTE: dow/week/month did not seem significant\n",
    "   \n",
    "`Customer Portfolio`:\n",
    "   - **unique counts**, i.e., how diversified is a customer's instrument type, country and index investment? \n",
    "   - **max_trade_volume**, i.e., how much does a customer invest for different types of trade instruments?\n",
    "   - NOTE: sector does not seem significant (categories overlap with other features and need to be reduced)\n",
    "   \n",
    "`Customer Risk-Behavior`:\n",
    "   - **max_trade_volume_BUY**, i.e., what is the maximum amount a customer has invested on a single trade?\n",
    "   - **mean_trade_volume_BUY**, i.e., how much money is the customer willing to invest on an average trade?\n",
    "   - **sum_trade_volume_BUY**, i.e., how much money has the customer invest over time?\n",
    "   - **max_execution_size**, i.e., what's the greatest number of shares a customer has traded?\n",
    "   - **mean_assets_at_buy**, i.e., what is the customer's current asset value on average when investing?\n",
    "   - **max_assets_at_buy**, i.e., what is the maximum current asset value when investing?\n",
    "   - **min_assets_at_buy**, i.e., what is the minimum current asset value when investing?\n",
    "   --> how long has the customer let an investment capitalize? days between first buy and first/last sell?\n",
    "   \n",
    "`Customer Performance`:\n",
    "   - **real_profit**, i.e., how much has the customer made from a sell?\n",
    "   - NOTE: virtual profit already included under BUY volumes"
   ]
  },
  {
   "cell_type": "code",
   "execution_count": null,
   "id": "814a7450",
   "metadata": {},
   "outputs": [],
   "source": [
    "# prep needs to be on monthly basis!!!!\n",
    "# performance (real and virtual)\n",
    "# classify instruments"
   ]
  },
  {
   "cell_type": "code",
   "execution_count": null,
   "id": "c8b52a99",
   "metadata": {},
   "outputs": [],
   "source": []
  },
  {
   "cell_type": "code",
   "execution_count": 1,
   "id": "4002c0ee",
   "metadata": {},
   "outputs": [],
   "source": [
    "import numpy as np\n",
    "import pandas as pd\n",
    "from datetime import datetime\n",
    "from functools import reduce\n",
    "import seaborn as sns\n",
    "import matplotlib.pyplot as plt"
   ]
  },
  {
   "cell_type": "code",
   "execution_count": 2,
   "id": "b3feba72",
   "metadata": {},
   "outputs": [],
   "source": [
    "# take log for count data?\n",
    "\n",
    "def aggregate_features(f):\n",
    "    _tmp = (\n",
    "        df.groupby(\"customer_id\")\n",
    "        .agg(\n",
    "            sum_ = (f, np.sum),\n",
    "            min_ = (f, np.min),\n",
    "            max_ = (f, np.max),\n",
    "            mean_ = (f, np.mean),\n",
    "            #std_ = (f, np.std),\n",
    "        )\n",
    "    )  \n",
    "    _tmp.columns = _tmp.columns + f\n",
    "    _tmp = _tmp.reset_index()\n",
    "    \n",
    "    return _tmp\n",
    "\n",
    "\n",
    "def aggregate_categorical_features(cat,f):\n",
    "    _tmp = (\n",
    "        df.groupby([\"customer_id\",cat])\n",
    "        .agg(\n",
    "            min_ = (f, np.min),\n",
    "            max_ = (f, np.max),\n",
    "            mean_ = (f, np.mean),\n",
    "            #std_ = (f, np.std),\n",
    "        )\n",
    "    )  \n",
    "    _tmp = _tmp.unstack().fillna(0)\n",
    "    _tmp.columns = list(map('trade_volume_'.join, _tmp.columns.values)) \n",
    "    _tmp = _tmp.reset_index()\n",
    "    \n",
    "    return _tmp\n",
    "\n",
    "def aggregate_buy_sell_features(f):\n",
    "    _tmp = (\n",
    "        df.groupby([\"customer_id\",'direction'])\n",
    "        .agg(\n",
    "            n_ = (f, np.count_nonzero),\n",
    "            sum_ = (f, np.sum),\n",
    "            min_ = (f, np.min),\n",
    "            max_ = (f, np.max),\n",
    "            mean_ = (f, np.mean),\n",
    "            #std_ = (f, np.std),\n",
    "        ).unstack()\n",
    "    )  \n",
    "    _tmp.columns = list(map('trade_volume_'.join, _tmp.columns.values)) \n",
    "    _tmp = _tmp.reset_index()\n",
    "    \n",
    "    return _tmp"
   ]
  },
  {
   "cell_type": "code",
   "execution_count": 3,
   "id": "8c38cd4f",
   "metadata": {},
   "outputs": [
    {
     "name": "stderr",
     "output_type": "stream",
     "text": [
      "/usr/local/lib/python3.7/site-packages/numpy/lib/arraysetops.py:569: FutureWarning: elementwise comparison failed; returning scalar instead, but in the future will perform elementwise comparison\n",
      "  mask |= (ar1 == a)\n"
     ]
    }
   ],
   "source": [
    "# prepare data to merge\n",
    "trades = pd.read_csv('trades.csv', index_col=0)\n",
    "trades['execution_time'] = trades['execution_time'].apply(lambda x: x.replace(' 25:', ' 23:')) # ValueError\n",
    "trades['date'] = pd.to_datetime(trades['execution_time']).apply(lambda x: x.date().strftime(\"%d/%m/%y\"))\n",
    "prices = pd.read_csv('prices.csv').sort_values('date')\n",
    "instruments = pd.read_csv('instruments.csv')\n",
    "df = trades.merge(prices, how='inner', left_on=[\"date\", \"instrument_id\"], right_on=[\"date\",\"instrument_id\"]).merge(instruments, how='left', on='instrument_id')"
   ]
  },
  {
   "cell_type": "code",
   "execution_count": null,
   "id": "2ccc8c72",
   "metadata": {},
   "outputs": [],
   "source": []
  },
  {
   "cell_type": "markdown",
   "id": "6b06674d",
   "metadata": {},
   "source": [
    "### Feature Engineering - Trade Data"
   ]
  },
  {
   "cell_type": "code",
   "execution_count": 4,
   "id": "8702a7ec",
   "metadata": {},
   "outputs": [],
   "source": [
    "# trade counts \n",
    "df['total_trades'] =df.groupby('customer_id')['customer_id'].transform('count')"
   ]
  },
  {
   "cell_type": "code",
   "execution_count": 5,
   "id": "b9ef98d3",
   "metadata": {},
   "outputs": [],
   "source": [
    "# trade volumes\n",
    "df['trade_volume'] = round(df.execution_size*df.price,2)"
   ]
  },
  {
   "cell_type": "code",
   "execution_count": 6,
   "id": "b037ffe3",
   "metadata": {},
   "outputs": [],
   "source": [
    "# time series --> mostly for analysis or as categorical variables\n",
    "df.execution_time = pd.to_datetime(df.execution_time)\n",
    "df['date'] = df.execution_time.dt.date \n",
    "df['day'] = df.execution_time.dt.day\n",
    "df['week'] = df.execution_time.dt.week.astype('str')\n",
    "df['dow'] = df.execution_time.dt.weekday.astype('str') # no trades made on weekend\n",
    "df['month'] = df.execution_time.dt.month.astype('str')"
   ]
  },
  {
   "cell_type": "code",
   "execution_count": 7,
   "id": "bcfa49e6",
   "metadata": {},
   "outputs": [],
   "source": [
    "# time intervals\n",
    "df['first_trade'] = df.sort_values(['customer_id','execution_time']).groupby('customer_id')['execution_time'].transform('first')\n",
    "df['last_trade'] = df.sort_values(['customer_id','execution_time']).groupby('customer_id')['execution_time'].transform('last')\n",
    "df['days_between_trades'] = df.sort_values(['customer_id','execution_time']).groupby('customer_id')['execution_time'].diff()\n",
    "df['days_between_trades'] = df.days_between_trades.dt.days\n",
    "df['days_between_trades'] = df['days_between_trades'].fillna(0.0001)\n",
    "df['total_duration_of_trades'] = pd.to_datetime(df['last_trade']) - pd.to_datetime(df['first_trade'])\n",
    "df['total_duration_of_trades'] = df.total_duration_of_trades.dt.days\n",
    "df['total_duration_of_trades'] = np.where(df.total_duration_of_trades==0,1,df.total_duration_of_trades)\n"
   ]
  },
  {
   "cell_type": "code",
   "execution_count": 8,
   "id": "1e34297d",
   "metadata": {},
   "outputs": [],
   "source": [
    "# portfolio diversity\n",
    "df['nunique_instruments'] = df.sort_values(['customer_id']).groupby('customer_id')['instrument_type'].transform('nunique')\n",
    "df['nunique_sectors'] = df.sort_values(['customer_id']).groupby('customer_id')['sector_name'].transform('nunique')\n",
    "df['nunique_countries'] = df.sort_values(['customer_id']).groupby('customer_id')['country_name'].transform('nunique')\n",
    "df['nunique_indices'] = df.sort_values(['customer_id']).groupby('customer_id')['index_name'].transform('nunique')\n"
   ]
  },
  {
   "cell_type": "code",
   "execution_count": 9,
   "id": "926d6efb",
   "metadata": {},
   "outputs": [],
   "source": [
    "base = df[[\n",
    "        'customer_id','total_trades','total_duration_of_trades',\n",
    "        'nunique_instruments','nunique_sectors','nunique_countries','nunique_indices'\n",
    "          ]].drop_duplicates()"
   ]
  },
  {
   "cell_type": "code",
   "execution_count": 10,
   "id": "2d10a938",
   "metadata": {},
   "outputs": [],
   "source": [
    "vol = aggregate_features('trade_volume')\n",
    "interval = aggregate_features('days_between_trades')\n",
    "size = aggregate_features('execution_size')"
   ]
  },
  {
   "cell_type": "code",
   "execution_count": 11,
   "id": "431fdb26",
   "metadata": {},
   "outputs": [],
   "source": [
    "## model new instrument category\n",
    "# china is tech\n",
    "# netherlands health and aircraft\n",
    "# norwegen is industry\n",
    "# uk is oil/energy\n",
    "#df['new_cat'] = df.country_name \n",
    "#df['new_cat'] = np.where(df.instrument_type=='DERIVATIVE',{'DERIVATIVE'},df.new_cat)\n",
    "#df['new_cat'] = np.where(df.instrument_type=='ETF',{'ETF'},df.new_cat)"
   ]
  },
  {
   "cell_type": "code",
   "execution_count": 12,
   "id": "f96af9b7",
   "metadata": {},
   "outputs": [],
   "source": [
    "instruments = aggregate_categorical_features('instrument_type','trade_volume')\n",
    "sectors = aggregate_categorical_features('sector_name','trade_volume')\n",
    "countries = aggregate_categorical_features('country_name','trade_volume')\n",
    "indices = aggregate_categorical_features('index_name','trade_volume')"
   ]
  },
  {
   "cell_type": "code",
   "execution_count": 20,
   "id": "5fda78d9",
   "metadata": {},
   "outputs": [
    {
     "data": {
      "text/plain": [
       "Index(['customer_id', 'min_trade_volume_DERIVATIVE', 'min_trade_volume_ETF',\n",
       "       'min_trade_volume_STOCK', 'max_trade_volume_DERIVATIVE',\n",
       "       'max_trade_volume_ETF', 'max_trade_volume_STOCK',\n",
       "       'mean_trade_volume_DERIVATIVE', 'mean_trade_volume_ETF',\n",
       "       'mean_trade_volume_STOCK'],\n",
       "      dtype='object')"
      ]
     },
     "execution_count": 20,
     "metadata": {},
     "output_type": "execute_result"
    }
   ],
   "source": [
    "instruments.columns"
   ]
  },
  {
   "cell_type": "code",
   "execution_count": 13,
   "id": "aefd9fb4",
   "metadata": {},
   "outputs": [],
   "source": [
    "#dow = aggregate_categorical_features('dow','trade_volume')\n",
    "#week = aggregate_categorical_features('week','trade_volume')\n",
    "#month = aggregate_categorical_features('month','trade_volume')"
   ]
  },
  {
   "cell_type": "code",
   "execution_count": 14,
   "id": "c087d57d",
   "metadata": {},
   "outputs": [],
   "source": [
    "# merge all dfs\n",
    "dfs = [base,vol,size,interval,instruments,sectors,countries,indices] #,dow,week,month\n",
    "final_df = reduce(lambda  left,right: pd.merge(left,right,on=['customer_id'],how='inner'), dfs).sort_values('customer_id')\n",
    "final_df.to_csv('final_df.csv')\n"
   ]
  },
  {
   "cell_type": "code",
   "execution_count": null,
   "id": "b1e42795",
   "metadata": {},
   "outputs": [],
   "source": []
  },
  {
   "cell_type": "markdown",
   "id": "b8d92822",
   "metadata": {},
   "source": [
    "### Feature Engineering - Buy vs Sell"
   ]
  },
  {
   "cell_type": "code",
   "execution_count": 15,
   "id": "29fb2a99",
   "metadata": {},
   "outputs": [],
   "source": [
    "#fix null to same time buy - do not drop!\n",
    "#tmp[((tmp.customer_id==8997)&(tmp.month==12))]\n",
    "df.execution_size = np.where(df.execution_size.isnull(),120.0,df.execution_size)\n",
    "df.execution_price = np.where(df.execution_price.isnull(),33.90,df.execution_price)\n",
    "df.trade_volume = round(df.execution_size*df.price,2)"
   ]
  },
  {
   "cell_type": "code",
   "execution_count": 16,
   "id": "23853b74",
   "metadata": {},
   "outputs": [],
   "source": [
    "# adjust price for net trade volumes\n",
    "df.loc[(df['direction']==\"BUY\"), 'price'] = -1*df.price # change price to neg if sell\n",
    "df['net_trade_volumes'] = round(df.execution_size*df.price,2)\n",
    "df['current_value_assets'] = df.sort_values(['customer_id','execution_time']).groupby('customer_id')['net_trade_volumes'].cumsum()\n",
    "# first trade is not buy \n"
   ]
  },
  {
   "cell_type": "code",
   "execution_count": 17,
   "id": "1d2aa8ae",
   "metadata": {},
   "outputs": [],
   "source": [
    "bs_vol = aggregate_buy_sell_features('trade_volume').fillna(0)"
   ]
  },
  {
   "cell_type": "code",
   "execution_count": 35,
   "id": "59003613",
   "metadata": {},
   "outputs": [],
   "source": [
    "#bs_vol['mean_assets_at_buy'] = df.sort_values(['customer_id','execution_time']).groupby(['customer_id','direction'])['current_value_assets'].agg('mean').unstack().loc[:,'BUY'].fillna(df.current_value_assets)\n",
    "#bs_vol['max_assets_at_buy'] = df.sort_values(['customer_id','execution_time']).groupby(['customer_id','direction'])['current_value_assets'].agg('max').unstack().loc[:,'BUY'].fillna(df.current_value_assets)\n",
    "#bs_vol['min_assets_at_buy'] = df.sort_values(['customer_id','execution_time']).groupby(['customer_id','direction'])['current_value_assets'].agg('min').unstack().loc[:,'BUY'].fillna(df.current_value_assets)\n",
    "#bs_vol['last_assets'] = df.sort_values(['customer_id','execution_time']).groupby(['customer_id'])['current_value_assets'].transform('last') # this is a profit proxy, but highly unstable month to month for prediction\n",
    " "
   ]
  },
  {
   "cell_type": "code",
   "execution_count": 118,
   "id": "2fbf72ab",
   "metadata": {},
   "outputs": [],
   "source": [
    "# feature engineering - customer profits from sells\n",
    "## NOTE: this approach combines all trades based on instrument type and sector, not a 1-to-1 difference (should include country?/instrument?)\n",
    "## how to deal with missing {''}\n",
    "#profit = df.sort_values(['customer_id','execution_time']).groupby(['customer_id','sector_name','instrument_type','direction'])['net_trade_volumes'].agg('sum')\n",
    "#profit = pd.DataFrame(profit).unstack()\n",
    "#profit['total_profit'] = profit.loc[:,pd.IndexSlice[:,'BUY']].values + profit.loc[:,pd.IndexSlice[:,'SELL']].values\n",
    "#profit['profit_ratio'] = -1 * (profit.loc[:,pd.IndexSlice['total_profit':,]].values / profit.loc[:,pd.IndexSlice[:,'BUY']].values) \n",
    "#profit['trade_id'] = np.arange(len(profit))\n",
    "#profit = profit.drop([('net_trade_volumes',  'BUY'),('net_trade_volumes', 'SELL'),], axis=1)\n",
    "#profit\n"
   ]
  },
  {
   "cell_type": "code",
   "execution_count": 128,
   "id": "f249de49",
   "metadata": {},
   "outputs": [],
   "source": [
    "# add how long customer let an investment alone to capitalize before sell, if at all"
   ]
  },
  {
   "cell_type": "code",
   "execution_count": 18,
   "id": "172b3ee4",
   "metadata": {},
   "outputs": [],
   "source": [
    "final_df = final_df.merge(bs_vol,on='customer_id',how='left')\n",
    "final_df.to_csv('final_df.csv')"
   ]
  },
  {
   "cell_type": "code",
   "execution_count": null,
   "id": "e90ae2eb",
   "metadata": {},
   "outputs": [],
   "source": []
  }
 ],
 "metadata": {
  "kernelspec": {
   "display_name": "Python 3 (ipykernel)",
   "language": "python",
   "name": "python3"
  },
  "language_info": {
   "codemirror_mode": {
    "name": "ipython",
    "version": 3
   },
   "file_extension": ".py",
   "mimetype": "text/x-python",
   "name": "python",
   "nbconvert_exporter": "python",
   "pygments_lexer": "ipython3",
   "version": "3.7.12"
  }
 },
 "nbformat": 4,
 "nbformat_minor": 5
}
