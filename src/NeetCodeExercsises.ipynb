{
 "cells": [
  {
   "cell_type": "markdown",
   "id": "22047b17",
   "metadata": {},
   "source": [
    "# Neet Code Exercises"
   ]
  },
  {
   "cell_type": "markdown",
   "id": "69511214",
   "metadata": {},
   "source": [
    "### 217.Contains Duplicate"
   ]
  },
  {
   "cell_type": "code",
   "execution_count": 38,
   "id": "2609c926",
   "metadata": {},
   "outputs": [
    {
     "data": {
      "text/plain": [
       "{1, 2, 3, 4, 5}"
      ]
     },
     "execution_count": 38,
     "metadata": {},
     "output_type": "execute_result"
    }
   ],
   "source": [
    "# get unique numbers\n",
    "nums = [1,4,5,1,2,3,1]\n",
    "set(nums)"
   ]
  },
  {
   "cell_type": "code",
   "execution_count": 2,
   "id": "7853ddeb",
   "metadata": {},
   "outputs": [
    {
     "name": "stdout",
     "output_type": "stream",
     "text": [
      "(1, 'Washington')\n",
      "(2, 'Adams')\n",
      "(3, 'Jefferson')\n",
      "(4, 'Madison')\n",
      "(5, 'Monroe')\n",
      "(6, 'Adams')\n",
      "(7, 'Jackson')\n"
     ]
    }
   ],
   "source": [
    "# indexing with enumerate --> returns iterator object (index, element)\n",
    "presidents = [\"Washington\", \"Adams\", \"Jefferson\", \"Madison\", \"Monroe\", \"Adams\", \"Jackson\"]\n",
    "for i in enumerate(presidents, start=1):\n",
    "    print(i)"
   ]
  },
  {
   "cell_type": "code",
   "execution_count": 2,
   "id": "f317d5d8",
   "metadata": {},
   "outputs": [
    {
     "name": "stdout",
     "output_type": "stream",
     "text": [
      "President 1: Washington\n",
      "President 2: Adams\n",
      "President 3: Jefferson\n",
      "President 4: Madison\n",
      "President 5: Monroe\n",
      "President 6: Adams\n",
      "President 7: Jackson\n"
     ]
    }
   ],
   "source": [
    "# indexing with range() --> index [i] and element presidents[i] are separate\n",
    "presidents = [\"Washington\", \"Adams\", \"Jefferson\", \"Madison\", \"Monroe\", \"Adams\", \"Jackson\"]\n",
    "for i in range(len(presidents)):\n",
    "    print(\"President {}: {}\".format(i + 1, presidents[i]))"
   ]
  },
  {
   "cell_type": "code",
   "execution_count": 3,
   "id": "2ce87bd1",
   "metadata": {},
   "outputs": [
    {
     "data": {
      "text/plain": [
       "['Adams', 'Adams', 'Jackson', 'Jefferson', 'Madison', 'Monroe', 'Washington']"
      ]
     },
     "execution_count": 3,
     "metadata": {},
     "output_type": "execute_result"
    }
   ],
   "source": [
    "# sort elements in list\n",
    "sorted(presidents)"
   ]
  },
  {
   "cell_type": "code",
   "execution_count": 4,
   "id": "e74be54c",
   "metadata": {},
   "outputs": [
    {
     "data": {
      "text/plain": [
       "{'Adams', 'Jackson', 'Jefferson', 'Madison', 'Monroe', 'Washington'}"
      ]
     },
     "execution_count": 4,
     "metadata": {},
     "output_type": "execute_result"
    }
   ],
   "source": [
    "# get unique elements in list\n",
    "set(presidents)"
   ]
  },
  {
   "cell_type": "code",
   "execution_count": 36,
   "id": "354fe19f",
   "metadata": {},
   "outputs": [
    {
     "data": {
      "text/plain": [
       "True"
      ]
     },
     "execution_count": 36,
     "metadata": {},
     "output_type": "execute_result"
    }
   ],
   "source": [
    "    def containsDuplicate(nums):\n",
    "        #sort(nums)\n",
    "        nums = sorted(nums) # first sort list\n",
    "        for x in range(len(nums)-1): # create index of elements in list starting with 0\n",
    "            if nums[x]==nums[x+1]: \n",
    "                return True\n",
    "            \n",
    "        return False\n",
    "\n",
    "nums = [1,2,3,5,78,9,2]\n",
    "containsDuplicate(nums)"
   ]
  },
  {
   "cell_type": "code",
   "execution_count": null,
   "id": "9290284f",
   "metadata": {},
   "outputs": [],
   "source": []
  },
  {
   "cell_type": "markdown",
   "id": "90ed427f",
   "metadata": {},
   "source": [
    "### ??? | Merge Sort"
   ]
  },
  {
   "cell_type": "code",
   "execution_count": 29,
   "id": "c09bd40e",
   "metadata": {},
   "outputs": [],
   "source": [
    "## Adrian's solution. Great Job!\n",
    "def mergeSort(array):\n",
    "    \"Returns sorted array.\"\n",
    "    # split the big array into halves and populate them\n",
    "    n = len(array)\n",
    "    if(n<=1):\n",
    "        return\n",
    "    mid = n // 2\n",
    "    left = array[:mid]\n",
    "    right = array[mid:]\n",
    "    \n",
    "    # call the functions recursively for each half    \n",
    "    mergeSort(left)\n",
    "    mergeSort(right)\n",
    "    \n",
    "    # merge arrays based on sorting algorithm below\n",
    "    result = merge(left, right)\n",
    "    \n",
    "    return result\n",
    "\n",
    "def merge(left, right):\n",
    "    \"Merge arrays as already sorted least to greatest.\"\n",
    "    xl = len(left)\n",
    "    xr = len(right)\n",
    "    leftPointer = 0\n",
    "    rightPointer = 0\n",
    "    resultPointer = 0\n",
    "    result = [None] * n # create empty matrix with same n elements as original array\n",
    "\n",
    "    while (leftPointer < xl | rightPointer < xr): # if there are still elements to look through in either half\n",
    "        if (leftPointer < xl & rightPointer < xr): # if there are still elements to look through in both halves\n",
    "            if (left[leftPointer] < right[rightPointer]): # compare elements of left & right arrays\n",
    "                result[resultPointer] = left[leftPointer]\n",
    "                resultPointer += 1\n",
    "                leftPointer += 1\n",
    "            else:\n",
    "                result[resultPointer] = right[rightPointer]\n",
    "                resultPointer += 1\n",
    "                rightPointer += 1\n",
    "                \n",
    "        elif (leftPointer < xl): # if left array still has elements\n",
    "            result[resultPointer] = left[leftPointer]\n",
    "            resultPointer += 1\n",
    "            leftPointer += 1\n",
    "            \n",
    "        else: # if right array still has elements, i.e. (rightPointer < xr)\n",
    "            result[resultPointer] = right[rightPointer]\n",
    "            resultPointer += 1\n",
    "            rightPointer += 1\n",
    "            \n",
    "    return result\n"
   ]
  },
  {
   "cell_type": "code",
   "execution_count": 30,
   "id": "92a2ef05",
   "metadata": {},
   "outputs": [
    {
     "data": {
      "text/plain": [
       "[234, 23, 23, 1, None, None, None, None, None]"
      ]
     },
     "execution_count": 30,
     "metadata": {},
     "output_type": "execute_result"
    }
   ],
   "source": [
    "array = [234, 23, 23, 1, 435, 634, 2342, 2654, 3]\n",
    "mergeSort(array)\n",
    "\n",
    "# is not working!!"
   ]
  },
  {
   "cell_type": "code",
   "execution_count": 34,
   "id": "f52724ae",
   "metadata": {},
   "outputs": [
    {
     "name": "stdout",
     "output_type": "stream",
     "text": [
      "[17, 20, 26, 31, 44, 54, 55, 77, 93]\n"
     ]
    }
   ],
   "source": [
    "# online example from https://www.educative.io/edpresso/merge-sort-in-python\n",
    "def mergeSort(myList):\n",
    "    if len(myList) > 1:\n",
    "        mid = len(myList) // 2\n",
    "        left = myList[:mid]\n",
    "        right = myList[mid:]\n",
    "\n",
    "        # Recursive call on each half\n",
    "        mergeSort(left)\n",
    "        mergeSort(right)\n",
    "\n",
    "        # Two iterators for traversing the two halves\n",
    "        i = 0\n",
    "        j = 0\n",
    "        \n",
    "        # Iterator for the main list (this does not create a new empty list but repopulates the old)\n",
    "        k = 0\n",
    "        \n",
    "        while i < len(left) and j < len(right): # as long as there are still elements in both arrays\n",
    "            if left[i] <= right[j]: # <=, not just <\n",
    "                # The value from the left half has been used, move the left iterator forward\n",
    "                myList[k] = left[i]\n",
    "                i += 1\n",
    "            else: # move the left iterator forward\n",
    "                myList[k] = right[j] \n",
    "                j += 1 \n",
    "            # Move main list iterator to the next slot\n",
    "            k += 1\n",
    "\n",
    "        # For all the remaining values in either array\n",
    "        while i < len(left):\n",
    "            myList[k] = left[i]\n",
    "            i += 1\n",
    "            k += 1\n",
    "\n",
    "        while j < len(right):\n",
    "            myList[k]=right[j]\n",
    "            j += 1\n",
    "            k += 1\n",
    "\n",
    "myList = [54,26,93,17,77,31,44,55,20]\n",
    "mergeSort(myList)\n",
    "print(myList)"
   ]
  },
  {
   "cell_type": "code",
   "execution_count": null,
   "id": "ec7c515c",
   "metadata": {},
   "outputs": [],
   "source": []
  },
  {
   "cell_type": "markdown",
   "id": "3f7b20b6",
   "metadata": {},
   "source": [
    "### 121. Best Time to Buy and Sell Stock"
   ]
  },
  {
   "cell_type": "code",
   "execution_count": 21,
   "id": "521eb15e",
   "metadata": {},
   "outputs": [
    {
     "name": "stdout",
     "output_type": "stream",
     "text": [
      "new buy 6 1\n",
      "new sell 6 1\n",
      "new buy 4 2\n",
      "new sell 4 2\n",
      "new buy 3 3\n",
      "new sell 3 3\n",
      "new buy 1 4\n",
      "new sell 1 4\n",
      "end result 0\n"
     ]
    }
   ],
   "source": [
    "def maxProfit(prices):\n",
    "    bestBuyPrice = prices[0]\n",
    "    bestBuyDay = 0\n",
    "    bestSellPrice = prices[0]\n",
    "    bestSellDay = 0\n",
    "    result = 0\n",
    "    for i in range(len(prices)):\n",
    "        if prices[i] < bestBuyPrice:\n",
    "            bestBuyPrice = prices[i]\n",
    "            bestBuyDay = i\n",
    "            print('new buy', bestBuyPrice, bestBuyDay)\n",
    "        if (prices[i] > bestSellPrice) | (bestSellPrice - bestBuyPrice > result):\n",
    "            bestSellPrice = prices[i]\n",
    "            bestSellDay = i\n",
    "            print('new sell', bestSellPrice, bestSellDay)\n",
    "        if (bestSellPrice - bestBuyPrice > result) & (bestSellDay > bestBuyDay):\n",
    "            result = bestSellPrice - bestBuyPrice\n",
    "            print('new maxProfit', result)\n",
    "    return result\n",
    "\n",
    "prices = [7,6,4,3,1]\n",
    "print('end result', maxProfit(prices))"
   ]
  },
  {
   "cell_type": "code",
   "execution_count": null,
   "id": "4b0c0518",
   "metadata": {},
   "outputs": [],
   "source": [
    "def maxProfit(prices):\n",
    "    l,r = 0,1 #left=buy, right=sell\n",
    "    maxP = 0\n",
    "    while r < len(prices):\n",
    "        if prices[l] < prices[r]: # buy low, sell high = profit\n",
    "            profit = prices[r] - prices[l]\n",
    "            maxP = max(maxP, profit)\n",
    "        else:\n",
    "            l += 1 # increase left window if not profitable\n",
    "        r += 1 # increase right window \n",
    "\n",
    "    return maxP"
   ]
  },
  {
   "cell_type": "code",
   "execution_count": null,
   "id": "44532fa5",
   "metadata": {},
   "outputs": [],
   "source": [
    "class Solution:\n",
    "    def maxProfit(self, prices: List[int]) -> int:\n",
    "        res = 0\n",
    "        \n",
    "        l = 0\n",
    "        for r in range(1, len(prices)):\n",
    "            if prices[r] < prices[l]:\n",
    "                l = r\n",
    "            res = max(res, prices[r] - prices[l])\n",
    "        return res"
   ]
  },
  {
   "cell_type": "code",
   "execution_count": null,
   "id": "efaffaca",
   "metadata": {},
   "outputs": [],
   "source": []
  },
  {
   "cell_type": "markdown",
   "id": "ddb550e1",
   "metadata": {},
   "source": [
    "## 3. Longest Substring Without Repeating Characters"
   ]
  },
  {
   "cell_type": "code",
   "execution_count": 36,
   "id": "8b2e12dc",
   "metadata": {},
   "outputs": [
    {
     "name": "stdout",
     "output_type": "stream",
     "text": [
      "{'g', 's', 'd', 'f'}\n"
     ]
    }
   ],
   "source": [
    "def longestSubstring(s):\n",
    "    left, right = 0, 0\n",
    "    subs = s[0]\n",
    "    result = 1\n",
    "    chars = set(subs)\n",
    "    for right in range(1, len(s)):\n",
    "        if s[right] not in chars:\n",
    "            chars.add(s[right])\n",
    "    print(chars)\n",
    "    return\n",
    "\n",
    "longestSubstring('dsgsdfsd')"
   ]
  },
  {
   "cell_type": "code",
   "execution_count": null,
   "id": "b88cd9da",
   "metadata": {},
   "outputs": [],
   "source": [
    "class Solution:\n",
    "    def lengthOfLongestSubstring(self, s: str) -> int:\n",
    "        charSet = set()\n",
    "        l = 0\n",
    "        res = 0\n",
    "        \n",
    "        for r in range(len(s)):\n",
    "            while s[r] in charSet:\n",
    "                charSet.remove(s[l])\n",
    "                l += 1\n",
    "            charSet.add(s[r])\n",
    "            res = max(res, r - l + 1)\n",
    "        return res"
   ]
  },
  {
   "cell_type": "code",
   "execution_count": null,
   "id": "420955f9",
   "metadata": {},
   "outputs": [],
   "source": []
  },
  {
   "cell_type": "code",
   "execution_count": null,
   "id": "753c73bc",
   "metadata": {},
   "outputs": [],
   "source": []
  },
  {
   "cell_type": "code",
   "execution_count": null,
   "id": "0a482010",
   "metadata": {},
   "outputs": [],
   "source": []
  },
  {
   "cell_type": "code",
   "execution_count": null,
   "id": "0991d591",
   "metadata": {},
   "outputs": [],
   "source": []
  },
  {
   "cell_type": "code",
   "execution_count": null,
   "id": "545afb25",
   "metadata": {},
   "outputs": [],
   "source": []
  }
 ],
 "metadata": {
  "kernelspec": {
   "display_name": "Python 3 (ipykernel)",
   "language": "python",
   "name": "python3"
  },
  "language_info": {
   "codemirror_mode": {
    "name": "ipython",
    "version": 3
   },
   "file_extension": ".py",
   "mimetype": "text/x-python",
   "name": "python",
   "nbconvert_exporter": "python",
   "pygments_lexer": "ipython3",
   "version": "3.7.12"
  }
 },
 "nbformat": 4,
 "nbformat_minor": 5
}
