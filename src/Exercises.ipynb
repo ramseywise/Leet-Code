{
 "cells": [
  {
   "cell_type": "markdown",
   "id": "6b47f8c0",
   "metadata": {},
   "source": [
    "# LeetCode Problems"
   ]
  },
  {
   "cell_type": "markdown",
   "id": "36419135",
   "metadata": {},
   "source": [
    "## Let's start with \"easy\" problems\n",
    "### Problem 1: Two Sum of Indices"
   ]
  },
  {
   "cell_type": "code",
   "execution_count": 79,
   "id": "b85117bc",
   "metadata": {},
   "outputs": [],
   "source": [
    "def twoSumI(nums, target):\n",
    "    \"\"\" Return the indices of two numbers in a list that equal the target.\"\"\"\n",
    "    values = dict() # use dict to map complement of value to index it corresponds \n",
    "    for i, j in enumerate(nums): # map value j to index i\n",
    "        val = target - j # calculate corresponding value\n",
    "        if val > 0 and val in values: # check if value is positive and in dict\n",
    "            return [values[val], i] # if so, return index position of nums for value j in dict\n",
    "        values[j] = i # if corresponding value is not in dict, continue to second value in dict\n",
    "        \n",
    "    return []  # if no solution found, return emptyt list"
   ]
  },
  {
   "cell_type": "code",
   "execution_count": 80,
   "id": "e01aa6c2",
   "metadata": {},
   "outputs": [
    {
     "data": {
      "text/plain": [
       "[0, 1]"
      ]
     },
     "execution_count": 80,
     "metadata": {},
     "output_type": "execute_result"
    }
   ],
   "source": [
    "# ex 1\n",
    "target = 9\n",
    "nums = [2,7,11,15]\n",
    "twoSumI(nums, target)   "
   ]
  },
  {
   "cell_type": "code",
   "execution_count": 81,
   "id": "0f238de4",
   "metadata": {},
   "outputs": [
    {
     "data": {
      "text/plain": [
       "[]"
      ]
     },
     "execution_count": 81,
     "metadata": {},
     "output_type": "execute_result"
    }
   ],
   "source": [
    "# ex 2 --> no solution\n",
    "nums = [4,7,11,15]\n",
    "twoSumI(nums, target)   "
   ]
  },
  {
   "cell_type": "markdown",
   "id": "a4e23abc",
   "metadata": {},
   "source": [
    "### Problem 1a: Sum two numbers"
   ]
  },
  {
   "cell_type": "code",
   "execution_count": 105,
   "id": "8194f801",
   "metadata": {},
   "outputs": [],
   "source": [
    "def twoSum(nums, target):\n",
    "    \"\"\" Return two numbers in a list that equal the target.\"\"\"\n",
    "    values = dict() # use dict to map complement of value to index it corresponds \n",
    "    for i, j in enumerate(nums): # map value j to index i\n",
    "        val = target - j # calculate corresponding value\n",
    "        if val > 0 and val in values: # check if value is positive and in dict\n",
    "            return val, j # if so, return index position of nums for value j in dict\n",
    "        values[j] = i # if corresponding value is not in dict, continue to second value in dict\n",
    "        \n",
    "    return []  # if no solution found, return emptyt list"
   ]
  },
  {
   "cell_type": "code",
   "execution_count": 106,
   "id": "304a6253",
   "metadata": {},
   "outputs": [
    {
     "data": {
      "text/plain": [
       "(2, 7)"
      ]
     },
     "execution_count": 106,
     "metadata": {},
     "output_type": "execute_result"
    }
   ],
   "source": [
    "# ex 1\n",
    "target = 9\n",
    "nums = [2,7,11,15]\n",
    "twoSum(nums, target)   "
   ]
  },
  {
   "cell_type": "markdown",
   "id": "39595db6",
   "metadata": {},
   "source": [
    "### Problem 9: Palindrome Number"
   ]
  },
  {
   "cell_type": "code",
   "execution_count": 84,
   "id": "d49c2e95",
   "metadata": {},
   "outputs": [],
   "source": [
    "def isPalindrome(x):\n",
    "    \"\"\"Assert whether number reads the same backwards and forwards.\"\"\"\n",
    "    \n",
    "    return str(x) == str(x)[::-1] # convert to str, count down beginning to end by 1"
   ]
  },
  {
   "cell_type": "code",
   "execution_count": 85,
   "id": "2326c050",
   "metadata": {},
   "outputs": [
    {
     "data": {
      "text/plain": [
       "True"
      ]
     },
     "execution_count": 85,
     "metadata": {},
     "output_type": "execute_result"
    }
   ],
   "source": [
    "# ex 1\n",
    "x = 121    \n",
    "isPalindrome(x)"
   ]
  },
  {
   "cell_type": "code",
   "execution_count": 87,
   "id": "e12da69d",
   "metadata": {},
   "outputs": [
    {
     "data": {
      "text/plain": [
       "False"
      ]
     },
     "execution_count": 87,
     "metadata": {},
     "output_type": "execute_result"
    }
   ],
   "source": [
    "# ex 2\n",
    "x = -121\n",
    "isPalindrome(x)"
   ]
  },
  {
   "cell_type": "markdown",
   "id": "112365cc",
   "metadata": {},
   "source": [
    "### Problem 9a: every odd number"
   ]
  },
  {
   "cell_type": "code",
   "execution_count": 93,
   "id": "313d89d6",
   "metadata": {},
   "outputs": [],
   "source": [
    "def everyOdd(x):\n",
    "    \"\"\"Assert whether number reads the same backwards and forwards.\"\"\"\n",
    "    \n",
    "    return str(x)[::2] # convert to str, count down beginning to end by 1"
   ]
  },
  {
   "cell_type": "code",
   "execution_count": 94,
   "id": "0e5ae688",
   "metadata": {},
   "outputs": [
    {
     "data": {
      "text/plain": [
       "'135790'"
      ]
     },
     "execution_count": 94,
     "metadata": {},
     "output_type": "execute_result"
    }
   ],
   "source": [
    "x = 12345678910\n",
    "everyOdd(x)"
   ]
  },
  {
   "cell_type": "code",
   "execution_count": null,
   "id": "1661f0f5",
   "metadata": {},
   "outputs": [],
   "source": []
  },
  {
   "cell_type": "code",
   "execution_count": null,
   "id": "025efd34",
   "metadata": {},
   "outputs": [],
   "source": []
  },
  {
   "cell_type": "code",
   "execution_count": null,
   "id": "0e61fcbd",
   "metadata": {},
   "outputs": [],
   "source": []
  }
 ],
 "metadata": {
  "kernelspec": {
   "display_name": "Python 3 (ipykernel)",
   "language": "python",
   "name": "python3"
  },
  "language_info": {
   "codemirror_mode": {
    "name": "ipython",
    "version": 3
   },
   "file_extension": ".py",
   "mimetype": "text/x-python",
   "name": "python",
   "nbconvert_exporter": "python",
   "pygments_lexer": "ipython3",
   "version": "3.7.2"
  }
 },
 "nbformat": 4,
 "nbformat_minor": 5
}
