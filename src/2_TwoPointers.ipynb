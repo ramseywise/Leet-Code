{
 "cells": [
  {
   "cell_type": "markdown",
   "id": "c526ebf3",
   "metadata": {},
   "source": [
    "## Two Pointers\n",
    "\n",
    "       - check if Palindrome (easy)\n",
    "       \n",
    "       TBD..\n",
    "       - container holds max water (medium)\n",
    "       - trapping rain water (hard)"
   ]
  },
  {
   "cell_type": "markdown",
   "id": "759449f1",
   "metadata": {},
   "source": [
    "### Problem 9: Check if Palindrome with integer only"
   ]
  },
  {
   "cell_type": "code",
   "execution_count": 3,
   "id": "6104a6e1",
   "metadata": {},
   "outputs": [],
   "source": [
    "def isPalindrome(x):\n",
    "    \"\"\"Assert whether number reads the same backwards and forwards using math.log.\"\"\"\n",
    "    temp=x # store integer as temporary value\n",
    "    rev=0 # create reverse variable\n",
    "    while(x>0):\n",
    "        dig=x%10 # % modulus operator stores last digit of number\n",
    "        rev=rev*10+dig # last digit stored as reverse\n",
    "        x=x//10 # // divides number and rounds quotient to whole number\n",
    "    \n",
    "    return print(temp==rev) # convert to str, count down beginning to end by 1"
   ]
  },
  {
   "cell_type": "code",
   "execution_count": 4,
   "id": "fc606a39",
   "metadata": {},
   "outputs": [
    {
     "name": "stdout",
     "output_type": "stream",
     "text": [
      "True\n"
     ]
    }
   ],
   "source": [
    "# ex 1\n",
    "x = 121    \n",
    "isPalindrome(x)"
   ]
  },
  {
   "cell_type": "markdown",
   "id": "c794c0f4",
   "metadata": {},
   "source": [
    "### Problem 9a: Palindrome with string"
   ]
  },
  {
   "cell_type": "code",
   "execution_count": 84,
   "id": "c96611cc",
   "metadata": {},
   "outputs": [],
   "source": [
    "def isPalindrome(x):\n",
    "    \"\"\"Assert whether number reads the same backwards and forwards.\"\"\"\n",
    "    \n",
    "    return str(x) == str(x)[::-1] # convert to str, count down beginning to end by 1"
   ]
  },
  {
   "cell_type": "code",
   "execution_count": 85,
   "id": "93ed74a8",
   "metadata": {},
   "outputs": [
    {
     "data": {
      "text/plain": [
       "True"
      ]
     },
     "execution_count": 85,
     "metadata": {},
     "output_type": "execute_result"
    }
   ],
   "source": [
    "# ex 2\n",
    "x = 121    \n",
    "isPalindrome(x)"
   ]
  },
  {
   "cell_type": "code",
   "execution_count": 87,
   "id": "a9400169",
   "metadata": {},
   "outputs": [
    {
     "data": {
      "text/plain": [
       "False"
      ]
     },
     "execution_count": 87,
     "metadata": {},
     "output_type": "execute_result"
    }
   ],
   "source": [
    "# ex 3\n",
    "x = -121\n",
    "isPalindrome(x)"
   ]
  },
  {
   "cell_type": "markdown",
   "id": "65568581",
   "metadata": {},
   "source": [
    "### Problem 9b: every odd number"
   ]
  },
  {
   "cell_type": "code",
   "execution_count": 93,
   "id": "b5d45c18",
   "metadata": {},
   "outputs": [],
   "source": [
    "def everyOdd(x):\n",
    "    \"\"\"Assert whether number reads the same backwards and forwards.\"\"\"\n",
    "    \n",
    "    return str(x)[::2] # convert to str, count down beginning to end by 1"
   ]
  },
  {
   "cell_type": "code",
   "execution_count": 94,
   "id": "c5167471",
   "metadata": {},
   "outputs": [
    {
     "data": {
      "text/plain": [
       "'135790'"
      ]
     },
     "execution_count": 94,
     "metadata": {},
     "output_type": "execute_result"
    }
   ],
   "source": [
    "x = 12345678910\n",
    "everyOdd(x)"
   ]
  },
  {
   "cell_type": "code",
   "execution_count": null,
   "id": "5d566f3c",
   "metadata": {},
   "outputs": [],
   "source": []
  },
  {
   "cell_type": "code",
   "execution_count": null,
   "id": "7d46cc88",
   "metadata": {},
   "outputs": [],
   "source": []
  },
  {
   "cell_type": "code",
   "execution_count": null,
   "id": "c36719be",
   "metadata": {},
   "outputs": [],
   "source": []
  },
  {
   "cell_type": "markdown",
   "id": "252bdbd7",
   "metadata": {},
   "source": [
    "### 11. Container with most water"
   ]
  },
  {
   "cell_type": "code",
   "execution_count": null,
   "id": "f7fefc96",
   "metadata": {},
   "outputs": [],
   "source": [
    "def containerMaxWater():\n",
    "    \"\"\"You are given an integer array height of length n. There are n vertical lines drawn such that the two endpoints of the ith line are (i, 0) and (i, height[i]).\"\"\"\n",
    "\n",
    "height = [1,8,6,2,5,4,8,3,7]\n",
    "    "
   ]
  },
  {
   "cell_type": "code",
   "execution_count": null,
   "id": "a3cf392d",
   "metadata": {},
   "outputs": [],
   "source": []
  },
  {
   "cell_type": "code",
   "execution_count": null,
   "id": "fb8a91c5",
   "metadata": {},
   "outputs": [],
   "source": []
  },
  {
   "cell_type": "code",
   "execution_count": null,
   "id": "309b0ffa",
   "metadata": {},
   "outputs": [],
   "source": []
  },
  {
   "cell_type": "markdown",
   "id": "17cf1143",
   "metadata": {},
   "source": [
    "### 42. Trapping Rain Water"
   ]
  },
  {
   "cell_type": "code",
   "execution_count": null,
   "id": "129cf5da",
   "metadata": {},
   "outputs": [],
   "source": [
    "def TrappingRainWater():\n",
    "    \"\"\"Given n non-negative integers representing an elevation map where the width of each bar is 1, compute how much water it can trap after raining.\"\"\"\n",
    "\n",
    "height = [0,1,0,2,1,0,1,3,2,1,2,1]"
   ]
  },
  {
   "cell_type": "code",
   "execution_count": null,
   "id": "8e85fb44",
   "metadata": {},
   "outputs": [],
   "source": []
  },
  {
   "cell_type": "code",
   "execution_count": null,
   "id": "5a251025",
   "metadata": {},
   "outputs": [],
   "source": []
  },
  {
   "cell_type": "code",
   "execution_count": null,
   "id": "ca9f2ae1",
   "metadata": {},
   "outputs": [],
   "source": []
  },
  {
   "cell_type": "code",
   "execution_count": null,
   "id": "8dad0874",
   "metadata": {},
   "outputs": [],
   "source": []
  }
 ],
 "metadata": {
  "kernelspec": {
   "display_name": "Python 3 (ipykernel)",
   "language": "python",
   "name": "python3"
  },
  "language_info": {
   "codemirror_mode": {
    "name": "ipython",
    "version": 3
   },
   "file_extension": ".py",
   "mimetype": "text/x-python",
   "name": "python",
   "nbconvert_exporter": "python",
   "pygments_lexer": "ipython3",
   "version": "3.7.12"
  }
 },
 "nbformat": 4,
 "nbformat_minor": 5
}
