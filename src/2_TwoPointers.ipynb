{
 "cells": [
  {
   "cell_type": "markdown",
   "id": "8024f797",
   "metadata": {},
   "source": [
    "## Two Pointers\n",
    "\n",
    "       - 9. check if Palindrome (easy)\n",
    "       - 11. container holds max water (medium)\n",
    "       - 15. 3Sum\n",
    "       - 167. two sum II\n",
    "       \n",
    "       tbd..\n",
    "       - 42. trapping rain water (hard)\n",
    "       "
   ]
  },
  {
   "cell_type": "markdown",
   "id": "cedbf0c6",
   "metadata": {},
   "source": [
    "### Problem 9: Check if Palindrome with integer only"
   ]
  },
  {
   "cell_type": "code",
   "execution_count": 1,
   "id": "fa6cef29",
   "metadata": {},
   "outputs": [],
   "source": [
    "def isPalindrome(x):\n",
    "    \"\"\"Assert whether number reads the same backwards and forwards using math.log.\"\"\"\n",
    "    temp=x # store integer as temporary value\n",
    "    rev=0 # create reverse variable\n",
    "    while(x>0):\n",
    "        dig=x%10 # % modulus operator stores last digit of number\n",
    "        rev=rev*10+dig # last digit stored as reverse\n",
    "        x=x//10 # // divides number and rounds quotient to whole number\n",
    "    \n",
    "    return print(temp==rev) # convert to str, count down beginning to end by 1"
   ]
  },
  {
   "cell_type": "code",
   "execution_count": 3,
   "id": "0614005a",
   "metadata": {},
   "outputs": [
    {
     "name": "stdout",
     "output_type": "stream",
     "text": [
      "True\n"
     ]
    }
   ],
   "source": [
    "# ex 1\n",
    "x = 1223221\n",
    "isPalindrome(x)"
   ]
  },
  {
   "cell_type": "markdown",
   "id": "b164061a",
   "metadata": {},
   "source": [
    "### Problem 9a: Palindrome with string"
   ]
  },
  {
   "cell_type": "code",
   "execution_count": 8,
   "id": "bdc0f2fc",
   "metadata": {},
   "outputs": [],
   "source": [
    "def isPalindrome(x):\n",
    "    \"\"\"Assert whether number reads the same backwards and forwards.\"\"\"\n",
    "    \n",
    "    return str(x) == str(x)[::-1] # convert to str, count down end to beginning by 1"
   ]
  },
  {
   "cell_type": "code",
   "execution_count": 16,
   "id": "ed675a1c",
   "metadata": {},
   "outputs": [
    {
     "data": {
      "text/plain": [
       "False"
      ]
     },
     "execution_count": 16,
     "metadata": {},
     "output_type": "execute_result"
    }
   ],
   "source": [
    "# ex 2\n",
    "x = \"abbac\"\n",
    "isPalindrome(x)"
   ]
  },
  {
   "cell_type": "code",
   "execution_count": 87,
   "id": "ec2e3bce",
   "metadata": {},
   "outputs": [
    {
     "data": {
      "text/plain": [
       "False"
      ]
     },
     "execution_count": 87,
     "metadata": {},
     "output_type": "execute_result"
    }
   ],
   "source": [
    "# ex 3\n",
    "x = -121\n",
    "isPalindrome(x)"
   ]
  },
  {
   "cell_type": "markdown",
   "id": "41e9b938",
   "metadata": {},
   "source": [
    "### Problem 9b: every odd number"
   ]
  },
  {
   "cell_type": "code",
   "execution_count": 18,
   "id": "812ca79c",
   "metadata": {},
   "outputs": [],
   "source": [
    "def everyOdd(x):\n",
    "    \"\"\"Assert whether number reads the same backwards and forwards.\"\"\"\n",
    "    \n",
    "    return str(x)[::2] # convert to str, count down beginning to end by 2"
   ]
  },
  {
   "cell_type": "code",
   "execution_count": 22,
   "id": "712235ad",
   "metadata": {},
   "outputs": [
    {
     "data": {
      "text/plain": [
       "'135790'"
      ]
     },
     "execution_count": 22,
     "metadata": {},
     "output_type": "execute_result"
    }
   ],
   "source": [
    "x = 12345678910\n",
    "everyOdd(x)"
   ]
  },
  {
   "cell_type": "code",
   "execution_count": null,
   "id": "3eec0232",
   "metadata": {},
   "outputs": [],
   "source": []
  },
  {
   "cell_type": "markdown",
   "id": "1a8f178a",
   "metadata": {},
   "source": [
    "### 11. Container with most water"
   ]
  },
  {
   "cell_type": "code",
   "execution_count": null,
   "id": "a8dfc2ee",
   "metadata": {},
   "outputs": [],
   "source": [
    "def containerMaxWater():\n",
    "    \"\"\"You are given an integer array height of length n. There are n vertical lines drawn such that the two endpoints of the ith line are (i, 0) and (i, height[i]).\"\"\"\n",
    "\n",
    "height = [1,8,6,2,5,4,8,3,7]\n",
    "    "
   ]
  },
  {
   "cell_type": "code",
   "execution_count": null,
   "id": "0b3df591",
   "metadata": {},
   "outputs": [],
   "source": [
    "class Solution:\n",
    "    def maxArea(self, height: List[int]) -> int:\n",
    "        l, r = 0, len(height) - 1\n",
    "        res = 0\n",
    "        \n",
    "        while l < r:\n",
    "            res = max(res, min(height[l], height[r]) * (r - l))\n",
    "            if height[l] < height[r]:\n",
    "                l += 1\n",
    "            elif height[r] <= height[l]:\n",
    "                r -= 1\n",
    "        return res"
   ]
  },
  {
   "cell_type": "code",
   "execution_count": null,
   "id": "a92e467b",
   "metadata": {},
   "outputs": [],
   "source": []
  },
  {
   "cell_type": "markdown",
   "id": "87ee1970",
   "metadata": {},
   "source": [
    "## 15. 3Sum"
   ]
  },
  {
   "cell_type": "code",
   "execution_count": null,
   "id": "fcd4d195",
   "metadata": {},
   "outputs": [],
   "source": []
  },
  {
   "cell_type": "markdown",
   "id": "be7a86f6",
   "metadata": {},
   "source": [
    "### 42. Trapping Rain Water"
   ]
  },
  {
   "cell_type": "code",
   "execution_count": null,
   "id": "3403f838",
   "metadata": {},
   "outputs": [],
   "source": [
    "def TrappingRainWater():\n",
    "    \"\"\"Given n non-negative integers representing an elevation map where the width of each bar is 1, compute how much water it can trap after raining.\"\"\"\n",
    "\n",
    "height = [0,1,0,2,1,0,1,3,2,1,2,1]"
   ]
  },
  {
   "cell_type": "markdown",
   "id": "092f1d2c",
   "metadata": {},
   "source": [
    "## 167. Two Sum II - Input Array Is Sorted"
   ]
  },
  {
   "cell_type": "code",
   "execution_count": 21,
   "id": "7fc3fc13",
   "metadata": {},
   "outputs": [],
   "source": [
    "def twoSum(numbers, target):\n",
    "    left, right = 0, len(numbers) - 1\n",
    "    sum_num = numbers[left] + numbers[right]\n",
    "    while sum_num != target:\n",
    "        if numbers[right] > target:\n",
    "            right -= 1\n",
    "        else:\n",
    "            left += 1\n",
    "        sum_num = numbers[left] + numbers[right]\n",
    "    return (left+1, right+1)"
   ]
  },
  {
   "cell_type": "code",
   "execution_count": 22,
   "id": "1e408c91",
   "metadata": {},
   "outputs": [
    {
     "name": "stdout",
     "output_type": "stream",
     "text": [
      "(1, 2)\n"
     ]
    }
   ],
   "source": [
    "numbers = [2,7,11,15]\n",
    "target = 9\n",
    "print(twoSum(numbers, target))"
   ]
  },
  {
   "cell_type": "code",
   "execution_count": 24,
   "id": "a2f8129b",
   "metadata": {},
   "outputs": [
    {
     "name": "stdout",
     "output_type": "stream",
     "text": [
      "(1, 3)\n"
     ]
    }
   ],
   "source": [
    "numbers = [2,3,4]\n",
    "target = 6\n",
    "print(twoSum(numbers, target))"
   ]
  },
  {
   "cell_type": "code",
   "execution_count": null,
   "id": "1369c053",
   "metadata": {},
   "outputs": [],
   "source": []
  }
 ],
 "metadata": {
  "kernelspec": {
   "display_name": "Python 3 (ipykernel)",
   "language": "python",
   "name": "python3"
  },
  "language_info": {
   "codemirror_mode": {
    "name": "ipython",
    "version": 3
   },
   "file_extension": ".py",
   "mimetype": "text/x-python",
   "name": "python",
   "nbconvert_exporter": "python",
   "pygments_lexer": "ipython3",
   "version": "3.7.12"
  }
 },
 "nbformat": 4,
 "nbformat_minor": 5
}
