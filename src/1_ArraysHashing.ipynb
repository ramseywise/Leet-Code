{
 "cells": [
  {
   "cell_type": "markdown",
   "id": "4f4df0a0",
   "metadata": {},
   "source": [
    "## Arrays & Hashing\n",
    "\n",
    "       - Sum integers (easy)\n",
    "       - Valid Anagram (easy)\n",
    "       - Contains duplicate (easy)\n",
    "       - Encode-Decode strings (medium)\n",
    "   \n",
    "       TBD..\n",
    "       - Longest consecutive subsequence (medium)\n",
    "       - topKFreuquent (medium)\n"
   ]
  },
  {
   "cell_type": "markdown",
   "id": "b84083e6",
   "metadata": {},
   "source": [
    "### 1. Two Sum of Indices"
   ]
  },
  {
   "cell_type": "code",
   "execution_count": 79,
   "id": "52240912",
   "metadata": {},
   "outputs": [],
   "source": [
    "def twoSumI(nums, target):\n",
    "    \"\"\" Return the indices of two numbers in a list that equal the target.\"\"\"\n",
    "    values = dict() # use dict to map complement of value to index it corresponds \n",
    "    for i, j in enumerate(nums): # map value j to index i\n",
    "        val = target - j # calculate corresponding value\n",
    "        if val > 0 and val in values: # check if value is positive and in dict\n",
    "            return [values[val], i] # if so, return index position of nums for value j in dict\n",
    "        values[j] = i # if corresponding value is not in dict, continue to second value in dict\n",
    "        \n",
    "    return []  # if no solution found, return emptyt list"
   ]
  },
  {
   "cell_type": "code",
   "execution_count": 80,
   "id": "0e12c510",
   "metadata": {},
   "outputs": [
    {
     "data": {
      "text/plain": [
       "[0, 1]"
      ]
     },
     "execution_count": 80,
     "metadata": {},
     "output_type": "execute_result"
    }
   ],
   "source": [
    "# ex 1\n",
    "target = 9\n",
    "nums = [2,7,11,15]\n",
    "twoSumI(nums, target)   "
   ]
  },
  {
   "cell_type": "code",
   "execution_count": 81,
   "id": "eb6ebaa7",
   "metadata": {},
   "outputs": [
    {
     "data": {
      "text/plain": [
       "[]"
      ]
     },
     "execution_count": 81,
     "metadata": {},
     "output_type": "execute_result"
    }
   ],
   "source": [
    "# ex 2 --> no solution\n",
    "nums = [4,7,11,15]\n",
    "twoSumI(nums, target)   "
   ]
  },
  {
   "cell_type": "code",
   "execution_count": null,
   "id": "1518c8cf",
   "metadata": {},
   "outputs": [],
   "source": []
  },
  {
   "cell_type": "markdown",
   "id": "7465d216",
   "metadata": {},
   "source": [
    "### Problem 1a: Sum two numbers"
   ]
  },
  {
   "cell_type": "code",
   "execution_count": 105,
   "id": "4b33b634",
   "metadata": {},
   "outputs": [],
   "source": [
    "def twoSum(nums, target):\n",
    "    \"\"\" Return two numbers in a list that equal the target.\"\"\"\n",
    "    values = dict() # use dict to map complement of value to index it corresponds \n",
    "    for i, j in enumerate(nums): # map value j to index i\n",
    "        val = target - j # calculate corresponding value\n",
    "        if val > 0 and val in values: # check if value is positive and in dict\n",
    "            return val, j # if so, return index position of nums for value j in dict\n",
    "        values[j] = i # if corresponding value is not in dict, continue to second value in dict\n",
    "        \n",
    "    return []  # if no solution found, return emptyt list"
   ]
  },
  {
   "cell_type": "code",
   "execution_count": 106,
   "id": "dd4a28fc",
   "metadata": {},
   "outputs": [
    {
     "data": {
      "text/plain": [
       "(2, 7)"
      ]
     },
     "execution_count": 106,
     "metadata": {},
     "output_type": "execute_result"
    }
   ],
   "source": [
    "# ex 1\n",
    "target = 9\n",
    "nums = [2,7,11,15]\n",
    "twoSum(nums, target)   "
   ]
  },
  {
   "cell_type": "code",
   "execution_count": null,
   "id": "e7b6fb8b",
   "metadata": {},
   "outputs": [],
   "source": []
  },
  {
   "cell_type": "code",
   "execution_count": null,
   "id": "1241455a",
   "metadata": {},
   "outputs": [],
   "source": []
  },
  {
   "cell_type": "code",
   "execution_count": null,
   "id": "76583cc4",
   "metadata": {},
   "outputs": [],
   "source": []
  },
  {
   "cell_type": "markdown",
   "id": "f8b50b58",
   "metadata": {},
   "source": [
    "### 128. Longest Consecutive Sequence"
   ]
  },
  {
   "cell_type": "code",
   "execution_count": null,
   "id": "7356b2ce",
   "metadata": {},
   "outputs": [],
   "source": [
    "def longestConsecutiveSequence(nums):\n",
    "    \"\"\"Given an unsorted array of integers nums, return the length of the longest consecutive elements sequence.\"\"\"\n",
    "    # first order\n",
    "    \n",
    "nums = [100,4,200,1,3,2]"
   ]
  },
  {
   "cell_type": "code",
   "execution_count": null,
   "id": "4c6f5427",
   "metadata": {},
   "outputs": [],
   "source": []
  },
  {
   "cell_type": "code",
   "execution_count": null,
   "id": "5501c390",
   "metadata": {},
   "outputs": [],
   "source": []
  },
  {
   "cell_type": "code",
   "execution_count": null,
   "id": "eeb1441a",
   "metadata": {},
   "outputs": [],
   "source": []
  },
  {
   "cell_type": "code",
   "execution_count": null,
   "id": "ae2cc37e",
   "metadata": {},
   "outputs": [],
   "source": []
  },
  {
   "cell_type": "markdown",
   "id": "57fa4829",
   "metadata": {},
   "source": [
    "### 217. Contains Duplicate"
   ]
  },
  {
   "cell_type": "code",
   "execution_count": 38,
   "id": "c8b69176",
   "metadata": {},
   "outputs": [
    {
     "data": {
      "text/plain": [
       "{1, 2, 3, 4, 5}"
      ]
     },
     "execution_count": 38,
     "metadata": {},
     "output_type": "execute_result"
    }
   ],
   "source": [
    "# get unique numbers\n",
    "nums = [1,4,5,1,2,3,1]\n",
    "set(nums)"
   ]
  },
  {
   "cell_type": "code",
   "execution_count": 2,
   "id": "5abd5633",
   "metadata": {},
   "outputs": [
    {
     "name": "stdout",
     "output_type": "stream",
     "text": [
      "(1, 'Washington')\n",
      "(2, 'Adams')\n",
      "(3, 'Jefferson')\n",
      "(4, 'Madison')\n",
      "(5, 'Monroe')\n",
      "(6, 'Adams')\n",
      "(7, 'Jackson')\n"
     ]
    }
   ],
   "source": [
    "# indexing with enumerate --> returns iterator object (index, element)\n",
    "presidents = [\"Washington\", \"Adams\", \"Jefferson\", \"Madison\", \"Monroe\", \"Adams\", \"Jackson\"]\n",
    "for i in enumerate(presidents, start=1):\n",
    "    print(i)"
   ]
  },
  {
   "cell_type": "code",
   "execution_count": 2,
   "id": "ba9c24b7",
   "metadata": {},
   "outputs": [
    {
     "name": "stdout",
     "output_type": "stream",
     "text": [
      "President 1: Washington\n",
      "President 2: Adams\n",
      "President 3: Jefferson\n",
      "President 4: Madison\n",
      "President 5: Monroe\n",
      "President 6: Adams\n",
      "President 7: Jackson\n"
     ]
    }
   ],
   "source": [
    "# indexing with range() --> index [i] and element presidents[i] are separate\n",
    "presidents = [\"Washington\", \"Adams\", \"Jefferson\", \"Madison\", \"Monroe\", \"Adams\", \"Jackson\"]\n",
    "for i in range(len(presidents)):\n",
    "    print(\"President {}: {}\".format(i + 1, presidents[i]))"
   ]
  },
  {
   "cell_type": "code",
   "execution_count": 3,
   "id": "56af18c8",
   "metadata": {},
   "outputs": [
    {
     "data": {
      "text/plain": [
       "['Adams', 'Adams', 'Jackson', 'Jefferson', 'Madison', 'Monroe', 'Washington']"
      ]
     },
     "execution_count": 3,
     "metadata": {},
     "output_type": "execute_result"
    }
   ],
   "source": [
    "# sort elements in list\n",
    "sorted(presidents)"
   ]
  },
  {
   "cell_type": "code",
   "execution_count": 4,
   "id": "9597f878",
   "metadata": {},
   "outputs": [
    {
     "data": {
      "text/plain": [
       "{'Adams', 'Jackson', 'Jefferson', 'Madison', 'Monroe', 'Washington'}"
      ]
     },
     "execution_count": 4,
     "metadata": {},
     "output_type": "execute_result"
    }
   ],
   "source": [
    "# get unique elements in list\n",
    "set(presidents)"
   ]
  },
  {
   "cell_type": "code",
   "execution_count": 36,
   "id": "6cc155c9",
   "metadata": {},
   "outputs": [
    {
     "data": {
      "text/plain": [
       "True"
      ]
     },
     "execution_count": 36,
     "metadata": {},
     "output_type": "execute_result"
    }
   ],
   "source": [
    "    def containsDuplicate(nums):\n",
    "        \"\"\"Given an integer array nums, return true if any value appears at least twice in the array, and return false if every element is distinct.\"\"\"\n",
    "        #sort(nums)\n",
    "        nums = sorted(nums) # first sort list\n",
    "        for x in range(len(nums)-1): # create index of elements in list starting with 0\n",
    "            if nums[x]==nums[x+1]: \n",
    "                return True\n",
    "            \n",
    "        return False\n",
    "\n",
    "nums = [1,2,3,5,78,9,2]\n",
    "containsDuplicate(nums)"
   ]
  },
  {
   "cell_type": "code",
   "execution_count": null,
   "id": "cef64cc2",
   "metadata": {},
   "outputs": [],
   "source": []
  },
  {
   "cell_type": "markdown",
   "id": "2d85a96f",
   "metadata": {},
   "source": [
    "### 242. Valid Anagram"
   ]
  },
  {
   "cell_type": "code",
   "execution_count": 25,
   "id": "d9bb8fda",
   "metadata": {},
   "outputs": [
    {
     "data": {
      "text/plain": [
       "True"
      ]
     },
     "execution_count": 25,
     "metadata": {},
     "output_type": "execute_result"
    }
   ],
   "source": [
    "def validAnagram(s,t):\n",
    "    \"\"\"Given two strings s and t, return true if t is an anagram of s, and false otherwise.\"\"\"\n",
    "    \n",
    "    if len(s) != len(t): # strings must be same length\n",
    "        return False\n",
    "    \n",
    "    elif sorted(s) == sorted(t): # sort and compare \n",
    "        return True\n",
    "    \n",
    "    else:\n",
    "        return False      \n",
    "\n",
    "s = \"anagram\"\n",
    "t = \"nagaram\"        \n",
    "validAnagram(s,t)         "
   ]
  },
  {
   "cell_type": "code",
   "execution_count": 26,
   "id": "2bf909d6",
   "metadata": {},
   "outputs": [
    {
     "data": {
      "text/plain": [
       "True"
      ]
     },
     "execution_count": 26,
     "metadata": {},
     "output_type": "execute_result"
    }
   ],
   "source": [
    "def validAnagram(s,t):\n",
    "    \"\"\"Given two strings s and t, return true if t is an anagram of s, and false otherwise.\"\"\"\n",
    "    if len(s) != len(t):  # strings must be same length\n",
    "        return False\n",
    "        \n",
    "    countS, countT = {}, {} # create empty dict for char counts\n",
    "    \n",
    "    for i in range(len(s)): # count each char in string\n",
    "        countS[s[i]] = 1 + countS.get(s[i], 0)\n",
    "        countT[t[i]] = 1 + countT.get(t[i], 0)\n",
    "    for c in countS:\n",
    "        if countS[c] != countT.get(c, 0):\n",
    "            return False\n",
    "    return True\n",
    "    \n",
    "    \n",
    "validAnagram(s,t)  "
   ]
  },
  {
   "cell_type": "code",
   "execution_count": null,
   "id": "3bde1d19",
   "metadata": {},
   "outputs": [],
   "source": []
  },
  {
   "cell_type": "markdown",
   "id": "dcb70523",
   "metadata": {},
   "source": [
    "### 271. Encode and Decode Strings"
   ]
  },
  {
   "cell_type": "code",
   "execution_count": 9,
   "id": "99f6ad47",
   "metadata": {},
   "outputs": [
    {
     "name": "stdout",
     "output_type": "stream",
     "text": [
      "4#lint4#code4#love3#you\n"
     ]
    }
   ],
   "source": [
    "def encode(strs):\n",
    "    \"\"\"Encode a list of strings to a string using delimiter and string length.\"\"\" \n",
    "    res = \"\"\n",
    "    for s in strs:\n",
    "        res += str(len(s)) + \"#\" + s # append each string to single result string with # delimiter\n",
    "    return res\n",
    "\n",
    "strs = ['lint','code','love','you']\n",
    "encode_strs = encode(strs)\n",
    "print(encode_strs)"
   ]
  },
  {
   "cell_type": "code",
   "execution_count": 22,
   "id": "bb3d301c",
   "metadata": {},
   "outputs": [
    {
     "data": {
      "text/plain": [
       "['lint', 'code', 'love', 'you']"
      ]
     },
     "execution_count": 22,
     "metadata": {},
     "output_type": "execute_result"
    }
   ],
   "source": [
    "def decode(encode_strs):\n",
    "    \"\"\"Decode single string to original list of strings.\"\"\"\n",
    "    res, i = [], 0 # set char index to 0\n",
    "\n",
    "    while i < len(encode_strs):\n",
    "        j = i\n",
    "        while encode_strs[j] != \"#\": # search for delimiter to separate strings\n",
    "            j += 1\n",
    "        length = int(encode_strs[i:j]) # get lenth of str\n",
    "        res.append(encode_strs[j + 1 : j + 1 + length])\n",
    "        i = j + 1 + length\n",
    "        \n",
    "    return res\n",
    "\n",
    "decode(encode_strs)"
   ]
  },
  {
   "cell_type": "code",
   "execution_count": null,
   "id": "ffa11922",
   "metadata": {},
   "outputs": [],
   "source": []
  },
  {
   "cell_type": "markdown",
   "id": "a141c702",
   "metadata": {},
   "source": [
    "### 347. Top K Frequent Elements"
   ]
  },
  {
   "cell_type": "code",
   "execution_count": null,
   "id": "ee507904",
   "metadata": {},
   "outputs": [],
   "source": [
    "def topKFrequent(nums,k):\n",
    "    \"\"\"Given an integer array nums and an integer k, return the k most frequent elements. You may return the answer in any order.\"\"\"\n",
    "\n",
    "nums = [1,1,1,2,2,3], k = 2"
   ]
  },
  {
   "cell_type": "code",
   "execution_count": null,
   "id": "23ef7ce3",
   "metadata": {},
   "outputs": [],
   "source": []
  },
  {
   "cell_type": "code",
   "execution_count": null,
   "id": "feac2b23",
   "metadata": {},
   "outputs": [],
   "source": []
  }
 ],
 "metadata": {
  "kernelspec": {
   "display_name": "Python 3 (ipykernel)",
   "language": "python",
   "name": "python3"
  },
  "language_info": {
   "codemirror_mode": {
    "name": "ipython",
    "version": 3
   },
   "file_extension": ".py",
   "mimetype": "text/x-python",
   "name": "python",
   "nbconvert_exporter": "python",
   "pygments_lexer": "ipython3",
   "version": "3.7.12"
  }
 },
 "nbformat": 4,
 "nbformat_minor": 5
}
