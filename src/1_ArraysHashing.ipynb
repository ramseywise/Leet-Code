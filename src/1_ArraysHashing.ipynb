{
 "cells": [
  {
   "cell_type": "markdown",
   "id": "ef01082d",
   "metadata": {},
   "source": [
    "## Arrays & Hashing\n",
    "\n",
    "       - Sum integers (easy)\n",
    "       - Contains duplicate  (easy)\n",
    "   \n",
    "       TBD..\n",
    "       - Longest consecutive subsequence (medium)\n",
    "       - Valid Anagram (medium)\n",
    "       - Encode-Decode strings (medium)\n",
    "       - topKFreuquent (medium)\n",
    "\n",
    "\n"
   ]
  },
  {
   "cell_type": "markdown",
   "id": "dd1e14f5",
   "metadata": {},
   "source": [
    "### 1. Two Sum of Indices"
   ]
  },
  {
   "cell_type": "code",
   "execution_count": 79,
   "id": "c9074472",
   "metadata": {},
   "outputs": [],
   "source": [
    "def twoSumI(nums, target):\n",
    "    \"\"\" Return the indices of two numbers in a list that equal the target.\"\"\"\n",
    "    values = dict() # use dict to map complement of value to index it corresponds \n",
    "    for i, j in enumerate(nums): # map value j to index i\n",
    "        val = target - j # calculate corresponding value\n",
    "        if val > 0 and val in values: # check if value is positive and in dict\n",
    "            return [values[val], i] # if so, return index position of nums for value j in dict\n",
    "        values[j] = i # if corresponding value is not in dict, continue to second value in dict\n",
    "        \n",
    "    return []  # if no solution found, return emptyt list"
   ]
  },
  {
   "cell_type": "code",
   "execution_count": 80,
   "id": "dc1bdd56",
   "metadata": {},
   "outputs": [
    {
     "data": {
      "text/plain": [
       "[0, 1]"
      ]
     },
     "execution_count": 80,
     "metadata": {},
     "output_type": "execute_result"
    }
   ],
   "source": [
    "# ex 1\n",
    "target = 9\n",
    "nums = [2,7,11,15]\n",
    "twoSumI(nums, target)   "
   ]
  },
  {
   "cell_type": "code",
   "execution_count": 81,
   "id": "47fc77f5",
   "metadata": {},
   "outputs": [
    {
     "data": {
      "text/plain": [
       "[]"
      ]
     },
     "execution_count": 81,
     "metadata": {},
     "output_type": "execute_result"
    }
   ],
   "source": [
    "# ex 2 --> no solution\n",
    "nums = [4,7,11,15]\n",
    "twoSumI(nums, target)   "
   ]
  },
  {
   "cell_type": "code",
   "execution_count": null,
   "id": "2131118d",
   "metadata": {},
   "outputs": [],
   "source": []
  },
  {
   "cell_type": "markdown",
   "id": "abe2f792",
   "metadata": {},
   "source": [
    "### Problem 1a: Sum two numbers"
   ]
  },
  {
   "cell_type": "code",
   "execution_count": 105,
   "id": "698694cb",
   "metadata": {},
   "outputs": [],
   "source": [
    "def twoSum(nums, target):\n",
    "    \"\"\" Return two numbers in a list that equal the target.\"\"\"\n",
    "    values = dict() # use dict to map complement of value to index it corresponds \n",
    "    for i, j in enumerate(nums): # map value j to index i\n",
    "        val = target - j # calculate corresponding value\n",
    "        if val > 0 and val in values: # check if value is positive and in dict\n",
    "            return val, j # if so, return index position of nums for value j in dict\n",
    "        values[j] = i # if corresponding value is not in dict, continue to second value in dict\n",
    "        \n",
    "    return []  # if no solution found, return emptyt list"
   ]
  },
  {
   "cell_type": "code",
   "execution_count": 106,
   "id": "99c30f1b",
   "metadata": {},
   "outputs": [
    {
     "data": {
      "text/plain": [
       "(2, 7)"
      ]
     },
     "execution_count": 106,
     "metadata": {},
     "output_type": "execute_result"
    }
   ],
   "source": [
    "# ex 1\n",
    "target = 9\n",
    "nums = [2,7,11,15]\n",
    "twoSum(nums, target)   "
   ]
  },
  {
   "cell_type": "code",
   "execution_count": null,
   "id": "553a8d2c",
   "metadata": {},
   "outputs": [],
   "source": []
  },
  {
   "cell_type": "markdown",
   "id": "afe1ea18",
   "metadata": {},
   "source": [
    "### 128. Longest Consecutive Sequence"
   ]
  },
  {
   "cell_type": "code",
   "execution_count": null,
   "id": "5c8fbd1f",
   "metadata": {},
   "outputs": [],
   "source": [
    "def longestConsecutiveSequence(nums):\n",
    "    \"\"\"Given an unsorted array of integers nums, return the length of the longest consecutive elements sequence.\"\"\"\n",
    "    # first order\n",
    "    \n",
    "nums = [100,4,200,1,3,2]"
   ]
  },
  {
   "cell_type": "code",
   "execution_count": null,
   "id": "995f84eb",
   "metadata": {},
   "outputs": [],
   "source": []
  },
  {
   "cell_type": "code",
   "execution_count": null,
   "id": "809c442f",
   "metadata": {},
   "outputs": [],
   "source": []
  },
  {
   "cell_type": "code",
   "execution_count": null,
   "id": "80f2d077",
   "metadata": {},
   "outputs": [],
   "source": []
  },
  {
   "cell_type": "code",
   "execution_count": null,
   "id": "2527052d",
   "metadata": {},
   "outputs": [],
   "source": []
  },
  {
   "cell_type": "markdown",
   "id": "8e836a8a",
   "metadata": {},
   "source": [
    "### 217. Contains Duplicate"
   ]
  },
  {
   "cell_type": "code",
   "execution_count": 38,
   "id": "893cba72",
   "metadata": {},
   "outputs": [
    {
     "data": {
      "text/plain": [
       "{1, 2, 3, 4, 5}"
      ]
     },
     "execution_count": 38,
     "metadata": {},
     "output_type": "execute_result"
    }
   ],
   "source": [
    "# get unique numbers\n",
    "nums = [1,4,5,1,2,3,1]\n",
    "set(nums)"
   ]
  },
  {
   "cell_type": "code",
   "execution_count": 2,
   "id": "8e546a08",
   "metadata": {},
   "outputs": [
    {
     "name": "stdout",
     "output_type": "stream",
     "text": [
      "(1, 'Washington')\n",
      "(2, 'Adams')\n",
      "(3, 'Jefferson')\n",
      "(4, 'Madison')\n",
      "(5, 'Monroe')\n",
      "(6, 'Adams')\n",
      "(7, 'Jackson')\n"
     ]
    }
   ],
   "source": [
    "# indexing with enumerate --> returns iterator object (index, element)\n",
    "presidents = [\"Washington\", \"Adams\", \"Jefferson\", \"Madison\", \"Monroe\", \"Adams\", \"Jackson\"]\n",
    "for i in enumerate(presidents, start=1):\n",
    "    print(i)"
   ]
  },
  {
   "cell_type": "code",
   "execution_count": 2,
   "id": "9e84ef27",
   "metadata": {},
   "outputs": [
    {
     "name": "stdout",
     "output_type": "stream",
     "text": [
      "President 1: Washington\n",
      "President 2: Adams\n",
      "President 3: Jefferson\n",
      "President 4: Madison\n",
      "President 5: Monroe\n",
      "President 6: Adams\n",
      "President 7: Jackson\n"
     ]
    }
   ],
   "source": [
    "# indexing with range() --> index [i] and element presidents[i] are separate\n",
    "presidents = [\"Washington\", \"Adams\", \"Jefferson\", \"Madison\", \"Monroe\", \"Adams\", \"Jackson\"]\n",
    "for i in range(len(presidents)):\n",
    "    print(\"President {}: {}\".format(i + 1, presidents[i]))"
   ]
  },
  {
   "cell_type": "code",
   "execution_count": 3,
   "id": "57c227d4",
   "metadata": {},
   "outputs": [
    {
     "data": {
      "text/plain": [
       "['Adams', 'Adams', 'Jackson', 'Jefferson', 'Madison', 'Monroe', 'Washington']"
      ]
     },
     "execution_count": 3,
     "metadata": {},
     "output_type": "execute_result"
    }
   ],
   "source": [
    "# sort elements in list\n",
    "sorted(presidents)"
   ]
  },
  {
   "cell_type": "code",
   "execution_count": 4,
   "id": "ef844177",
   "metadata": {},
   "outputs": [
    {
     "data": {
      "text/plain": [
       "{'Adams', 'Jackson', 'Jefferson', 'Madison', 'Monroe', 'Washington'}"
      ]
     },
     "execution_count": 4,
     "metadata": {},
     "output_type": "execute_result"
    }
   ],
   "source": [
    "# get unique elements in list\n",
    "set(presidents)"
   ]
  },
  {
   "cell_type": "code",
   "execution_count": 36,
   "id": "860272f3",
   "metadata": {},
   "outputs": [
    {
     "data": {
      "text/plain": [
       "True"
      ]
     },
     "execution_count": 36,
     "metadata": {},
     "output_type": "execute_result"
    }
   ],
   "source": [
    "    def containsDuplicate(nums):\n",
    "        \"\"\"Given an integer array nums, return true if any value appears at least twice in the array, and return false if every element is distinct.\"\"\"\n",
    "        #sort(nums)\n",
    "        nums = sorted(nums) # first sort list\n",
    "        for x in range(len(nums)-1): # create index of elements in list starting with 0\n",
    "            if nums[x]==nums[x+1]: \n",
    "                return True\n",
    "            \n",
    "        return False\n",
    "\n",
    "nums = [1,2,3,5,78,9,2]\n",
    "containsDuplicate(nums)"
   ]
  },
  {
   "cell_type": "code",
   "execution_count": null,
   "id": "ed037f61",
   "metadata": {},
   "outputs": [],
   "source": []
  },
  {
   "cell_type": "markdown",
   "id": "ea7267d5",
   "metadata": {},
   "source": [
    "### 242. Valid Anagram"
   ]
  },
  {
   "cell_type": "code",
   "execution_count": null,
   "id": "4bd7a22e",
   "metadata": {},
   "outputs": [],
   "source": [
    "def validAnagram(s):\n",
    "\"\"\"Given two strings s and t, return true if t is an anagram of s, and false otherwise.\"\"\"\n",
    "\n",
    "s = \"anagram\", t = \"nagaram\""
   ]
  },
  {
   "cell_type": "code",
   "execution_count": null,
   "id": "c7f8f130",
   "metadata": {},
   "outputs": [],
   "source": []
  },
  {
   "cell_type": "markdown",
   "id": "73d42e69",
   "metadata": {},
   "source": [
    "### 271. Encode and Decode Strings"
   ]
  },
  {
   "cell_type": "code",
   "execution_count": null,
   "id": "e454af5e",
   "metadata": {},
   "outputs": [],
   "source": [
    "class Solution:\n",
    "    \"\"\"\n",
    "    @param: strs: a list of strings\n",
    "    @return: encodes a list of strings to a single string.\n",
    "    \"\"\"\n",
    "    def encode(self, strs):\n",
    "        res = \"\"\n",
    "        for s in strs:\n",
    "            res += str(len(s)) + \"#\" + s\n",
    "        return res\n",
    "\n",
    "    \"\"\"\n",
    "    @param: str: A string\n",
    "    @return: dcodes a single string to a list of strings\n",
    "    \"\"\"\n",
    "    def decode(self, str):\n",
    "        res, i = [], 0\n",
    "\n",
    "        while i < len(str):\n",
    "            j = i\n",
    "            while str[j] != \"#\":\n",
    "                j += 1\n",
    "            length = int(str[i:j])\n",
    "            res.append(str[j + 1 : j + 1 + length])\n",
    "            i = j + 1 + length\n",
    "        return res"
   ]
  },
  {
   "cell_type": "code",
   "execution_count": null,
   "id": "243688ff",
   "metadata": {},
   "outputs": [],
   "source": []
  },
  {
   "cell_type": "markdown",
   "id": "dc11390f",
   "metadata": {},
   "source": [
    "### 347. Top K Frequent Elements"
   ]
  },
  {
   "cell_type": "code",
   "execution_count": null,
   "id": "017fb419",
   "metadata": {},
   "outputs": [],
   "source": [
    "def topKFrequent(nums,k):\n",
    "    \"\"\"Given an integer array nums and an integer k, return the k most frequent elements. You may return the answer in any order.\"\"\"\n",
    "\n",
    "nums = [1,1,1,2,2,3], k = 2"
   ]
  },
  {
   "cell_type": "code",
   "execution_count": null,
   "id": "62bd6dff",
   "metadata": {},
   "outputs": [],
   "source": []
  },
  {
   "cell_type": "code",
   "execution_count": null,
   "id": "e0180946",
   "metadata": {},
   "outputs": [],
   "source": []
  }
 ],
 "metadata": {
  "kernelspec": {
   "display_name": "Python 3 (ipykernel)",
   "language": "python",
   "name": "python3"
  },
  "language_info": {
   "codemirror_mode": {
    "name": "ipython",
    "version": 3
   },
   "file_extension": ".py",
   "mimetype": "text/x-python",
   "name": "python",
   "nbconvert_exporter": "python",
   "pygments_lexer": "ipython3",
   "version": "3.7.12"
  }
 },
 "nbformat": 4,
 "nbformat_minor": 5
}
