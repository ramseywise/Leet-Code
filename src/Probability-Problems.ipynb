{
 "cells": [
  {
   "cell_type": "markdown",
   "id": "59925ecb",
   "metadata": {},
   "source": [
    "# LeetCode Problems\n",
    "\n",
    "to be completed...\n",
    "\n",
    "7 data structures:\n",
    "1. arrays:\n",
    "    - Longest consecutive subsequence (medium)\n",
    "    - Valid Anagram (medium)\n",
    "    - Encode-Decode strings (medium)\n",
    "    - topKFreuquent (medium)\n",
    "\n",
    "2. queues:\n",
    "    - last stone weight (easy)\n",
    "    - k closest points to origin (medium)\n",
    "    - k largest element (medium)\n",
    "    - task scheduler (medium)\n",
    "    - simplified twitter (medium)\n",
    "    \n",
    "3. stacks: \n",
    "    - Car Fleet (medium)\n",
    "    - daily temperatures (medium)\n",
    "    - Largest Rectangle in Histogram (hard)\n",
    "\n",
    "4. linked lists:\n",
    "    - reverse linked list (easy)\n",
    "    - remove nth node (medium)\n",
    "    - reorder list (medium)\n",
    "    - find duplicate (medium)\n",
    "\n",
    "5. trees: \n",
    "    - invert binary tree (easy)\n",
    "    - maximum depth of binary tree (easy)\n",
    "    - subtree of another tree (easy)\n",
    "    - count good nodes (medium)\n",
    "    - serialize/deserialize binary tree (hard)\n",
    "    - Implement trie (medium)\n",
    "    - word search i & ii (hard)\n",
    " \n",
    "6. graphs\n",
    "    - reconstruct itinerary (hard)\n",
    "    - network delay time (medium)\n",
    "    - swim in rising water (meidum)\n",
    "    - cheapest flights (medium)\n",
    "\n",
    "7. intervals:\n",
    "    - insert interval (medium)\n",
    "    - merge interval (medium)\n",
    "    - non-overlapping intervals (medium)\n",
    "    - meeting rooms i & ii (medium)\n",
    "\n",
    "\n",
    "Techniques: \n",
    "1. two-pointers:\n",
    "    - container holds max water (medium)\n",
    "    - trapping rain water (hard)\n",
    "\n",
    "2. sliding windows:\n",
    "    - longest repeating character replacement (medium)\n",
    "    - permutation in string (medium)\n",
    "    - minimum window substring (hard)\n",
    "    - maximum window substring (hard)\n",
    "\n",
    "3. binary search:\n",
    "    - binary search (easy)\n",
    "    - koko eats bananas (medium)\n",
    "    - search rotated array (medium)\n",
    "    - find minimum in rotated array (medium)\n",
    "    - time-based key-value pair (medium)\n",
    "    - median of two sorted arrays (hard)\n",
    "    \n",
    "4. greedy:\n",
    "    - jump game 1 & 2 (medium)\n",
    "    - gas station (medium)\n",
    "    - hand of straights (medium)\n",
    "    - partition labels (medium)\n",
    "    \n",
    "5. Backtracking \n",
    "    - subsets i & ii (medium)\n",
    "    - permutations (medium)\n",
    "    - letter combo of phone (medium)\n",
    "    \n",
    "*add recursive and game theory   \n",
    "\n",
    "Dynamic Programming\n",
    "- climbing stairs (easy)\n",
    "- house robbber i & ii (medium)\n",
    "- Longest Palindromic Substring (medium)\n",
    "- coin change i & ii (medium)\n",
    "- word break (medium)\n",
    "- partition equal subset sum (medium)\n",
    "- unique paths (medium)\n",
    "- longest common subsequence (medium)\n",
    "- longest increasing path (hard)\n",
    "- burst balloons (hard)"
   ]
  },
  {
   "cell_type": "markdown",
   "id": "64a45266",
   "metadata": {},
   "source": [
    "## Probability problems\n",
    "### Practice Probability Examples"
   ]
  },
  {
   "cell_type": "code",
   "execution_count": null,
   "id": "3913d40c",
   "metadata": {},
   "outputs": [],
   "source": [
    "import random\n",
    "import numpy as np"
   ]
  },
  {
   "cell_type": "code",
   "execution_count": 71,
   "id": "ec94fd00",
   "metadata": {},
   "outputs": [
    {
     "name": "stdout",
     "output_type": "stream",
     "text": [
      "The probability of rolling an even number:  54.0 %\n"
     ]
    }
   ],
   "source": [
    "def rollDiceProb(o,r):\n",
    "    \"\"\"Returns probability that two dice thrown is even.\"\"\"\n",
    "    count = 0\n",
    "    for i in range(r): # loop for number of rolls\n",
    "        score = random.randint(1,o) # return random array for 100 roles in range 1-6\n",
    "        if score % 2: # criteria that roll even numbers using modulo operator\n",
    "            count += 1 # add to count\n",
    "    \n",
    "    return count/r\n",
    "\n",
    "o=6 # options to roll on dice\n",
    "r=100 # number of rolls\n",
    "\n",
    "string = 'The probability of rolling an even number: '\n",
    "print(string,np.round(rollDiceProb(n,r)*100,2),'%')"
   ]
  },
  {
   "cell_type": "code",
   "execution_count": 85,
   "id": "52d43277",
   "metadata": {},
   "outputs": [
    {
     "name": "stdout",
     "output_type": "stream",
     "text": [
      "The probability of rolling an even number:  52.0 %\n"
     ]
    }
   ],
   "source": [
    "def rollDiceProbSim(o,r,n):\n",
    "    \"\"\"Returns probability that two dice thrown is even.\"\"\"\n",
    "    counts = 0\n",
    "    for i in range(n): # outer loop each interation\n",
    "        count = 0\n",
    "        for i in range(r): # inner loop for number of rolls\n",
    "            score = random.randint(1,o) # return random array for 100 roles in range 1-6\n",
    "            count += 1 # add to count\n",
    "            if count % 2 or score > 7: # criteria that roll even numbers using modulo operator\n",
    "                counts += 1 # add to count\n",
    "\n",
    "    return counts/r\n",
    "\n",
    "o=6 # options to roll on dice\n",
    "r=100 # number of rolls\n",
    "n=100000 # number of simulations (law of large numbers --> probability nears to 1)\n",
    "\n",
    "string = 'The probability of rolling an even number: '\n",
    "print(string,np.round(rollDiceProb(n,r)*100,2),'%')"
   ]
  },
  {
   "cell_type": "code",
   "execution_count": 86,
   "id": "a05ca239",
   "metadata": {},
   "outputs": [
    {
     "name": "stdout",
     "output_type": "stream",
     "text": [
      "The probability of rolling an even number or greater than 7 is:  66.52 %\n"
     ]
    }
   ],
   "source": [
    "def rollDiceProb(n):\n",
    "    \"\"\"Returns probability that two dice thrown is even or greater than 7 using simulation approach.\"\"\"\n",
    "    count = 0\n",
    "    for i in range(n): # loop each interation\n",
    "        roll1 = random.randint(1,6) # probability of roll 1 of 6 in first round\n",
    "        roll2 = random.randint(1,6) # probability of roll 1 of 6 in second round\n",
    "        score = roll1 + roll2 # sum values to get score\n",
    "        if score % 2 == 0 or score > 7: # criteria that roll even using modulo operator (returns remainder) or if greater than 7\n",
    "            count += 1 # add to count\n",
    "    \n",
    "    return count/n\n",
    "\n",
    "n=100000 # number of simulations (law of large numbers --> probability nears to 1)\n",
    "string = 'The probability of rolling an even number or greater than 7 is: '\n",
    "print(string,np.round(rollDiceProb(n)*100,2),'%')\n"
   ]
  },
  {
   "cell_type": "code",
   "execution_count": 89,
   "id": "86b9e80e",
   "metadata": {},
   "outputs": [
    {
     "name": "stdout",
     "output_type": "stream",
     "text": [
      "The probability of rolling an even number or greater than 7 is:  89.79 %\n"
     ]
    }
   ],
   "source": [
    "def rollDiceProb(n):\n",
    "    \"\"\"Returns probability that two dice thrown is even or greater than 7 using simulation approach.\"\"\"\n",
    "    count = 0\n",
    "    for i in range(n): # loop each interation\n",
    "        roll1 = random.randint(1,6) # probability of roll 1 of 6 in first round\n",
    "        roll2 = random.randint(1,6) # probability of roll 1 of 6 in second round\n",
    "        roll3 = random.randint(1,6) # probability of roll 1 of 6 in second round\n",
    "        score = roll1 + roll2 + roll3 # sum values to get score\n",
    "        if score % 2 == 0 or score > 7: # criteria that roll even using modulo operator (returns remainder) or if greater than 7\n",
    "            count += 1 # add to count\n",
    "    \n",
    "    return count/n\n",
    "\n",
    "n=100000 # number of simulations (law of large numbers --> probability nears to 1)\n",
    "string = 'The probability of rolling an even number or greater than 7 is: '\n",
    "print(string,np.round(rollDiceProb(n)*100,2),'%')\n"
   ]
  },
  {
   "cell_type": "markdown",
   "id": "aa5b827b",
   "metadata": {},
   "source": [
    "### Luck of the Draw\n",
    "\n",
    "A box contains 10 white balls, 20 reds and 30 greens. Draw 5 balls with replacement… what is the probability that:\n",
    "  \n",
    "    a) 3 white or 2 red\n",
    "    b) All 5 are the same color"
   ]
  },
  {
   "cell_type": "code",
   "execution_count": 131,
   "id": "979c88b2",
   "metadata": {},
   "outputs": [
    {
     "name": "stdout",
     "output_type": "stream",
     "text": [
      "The probability of drawing 3 white and 2 red balls is:  0.49899999999999994 %\n",
      "The probability of drawing all same color:  0.415 %\n"
     ]
    }
   ],
   "source": [
    "# first create for 3 color classes in a dictionary for all 60 balls\n",
    "d = {} \n",
    "for i in range(60): # number of balls in total\n",
    "    if i < 10: # assign 10 balls to white\n",
    "        d[i] = 'white' \n",
    "    elif i > 9 and i < 30: # assign 20 balls to red\n",
    "        d[i] = 'red' \n",
    "    else: # assign remaining 30 balls to green\n",
    "        d[i] = 'green' \n",
    "        \n",
    "n = 100000 # number of simulations\n",
    "A = 0 # subtotal for Part A solution\n",
    "B = 0 # subtotal for Part B solution\n",
    "\n",
    "for i in range(n):\n",
    "    arr = [] # create array of balls chosen for 5 draws over 100k iterations\n",
    "    for i in range(5):\n",
    "        arr.append(d[random.randint(0,59)]) # why can't use arr = np.vectorize(d.get)(numpy.random.randint(0,59,5))\n",
    "    \n",
    "    # sum which ball was selected for all 5 draws (works for list, not numpy array)\n",
    "    white = arr.count('white')\n",
    "    red = arr.count('red')\n",
    "    green = arr.count('green')\n",
    "    \n",
    "    # criteria for Part A combination \n",
    "    if white == 3 and red ==2:\n",
    "        A += 1\n",
    "        \n",
    "    # criteria for Part B combination\n",
    "    if red == 5 | white == 5 | green ==5:\n",
    "        B += 1\n",
    "\n",
    "print('The probability of drawing 3 white and 2 red balls is: ', (A/n)*100,'%')\n",
    "print('The probability of drawing all same color: ', (B/n)*100,'%')"
   ]
  },
  {
   "cell_type": "code",
   "execution_count": 128,
   "id": "6324215b",
   "metadata": {},
   "outputs": [
    {
     "name": "stdout",
     "output_type": "stream",
     "text": [
      "Probability that we get at least one brown a one green 28.07 %\n"
     ]
    }
   ],
   "source": [
    "# what if balls are removed\n",
    "def ballsFromHat():\n",
    "    \"\"\"Returns dictionary of randomly selected balls from hat.\"\"\"\n",
    "    balls = {\n",
    "        \"red\":5,\n",
    "        \"yellow\":5,\n",
    "        \"green\":5,\n",
    "        \"brown\":5\n",
    "    }\n",
    "     \n",
    "    #Create a new empty dictionary to keep the drawn balls\n",
    "    drawn = dict.fromkeys(balls.keys(), 0)\n",
    "    toDraw = 3\n",
    "    \n",
    "    for i in range(toDraw):\n",
    "        rball = random.choice(list(balls))\n",
    "        balls[rball] -= 1 # remove random ball from hat\n",
    "        drawn[rball] += 1 # add to drawn count\n",
    "         \n",
    "    return drawn \n",
    "\n",
    "# calculate number of matches to get probability\n",
    "match = 0\n",
    "for i in range(n):\n",
    "    r = ballsFromHat()\n",
    "    if r[\"brown\"] >= 1 and r[\"green\"] >= 1: # criteria if we get at least 1 brown and 1 green\n",
    "        match += 1\n",
    " \n",
    "print('Probability that we get at least one brown a one green', (match/float(n)*100),'%')\n",
    " \n"
   ]
  },
  {
   "cell_type": "code",
   "execution_count": null,
   "id": "5131868a",
   "metadata": {},
   "outputs": [],
   "source": []
  },
  {
   "cell_type": "code",
   "execution_count": null,
   "id": "8a178632",
   "metadata": {},
   "outputs": [],
   "source": []
  },
  {
   "cell_type": "code",
   "execution_count": null,
   "id": "beaece72",
   "metadata": {},
   "outputs": [],
   "source": []
  },
  {
   "cell_type": "code",
   "execution_count": null,
   "id": "b5db8073",
   "metadata": {},
   "outputs": [],
   "source": []
  },
  {
   "cell_type": "code",
   "execution_count": null,
   "id": "b05a48b0",
   "metadata": {},
   "outputs": [],
   "source": []
  },
  {
   "cell_type": "code",
   "execution_count": null,
   "id": "20fb2aba",
   "metadata": {},
   "outputs": [],
   "source": []
  },
  {
   "cell_type": "markdown",
   "id": "690b0c28",
   "metadata": {},
   "source": [
    "### Problem 808: Soup Servings\n",
    "\n",
    "There are two types of soup: type A and type B. Initially, we have n ml of each type of soup. There are four kinds of operations:\n",
    "\n",
    "    1) Serve 100 ml of soup A and 0 ml of soup B --> A becomes empty first\n",
    "    2) Serve 75 ml of soup A and 25 ml of soup B --> A becomes empty first\n",
    "    3) Serve 50 ml of soup A and 50 ml of soup B --> A & B become empty at some time\n",
    "    4) Serve 25 ml of soup A and 75 ml of soup B --> B becomes empty first\n",
    "\n",
    "When we serve some soup, we give it to someone, and we no longer have it. Each turn, we will choose from the four operations with an equal probability 0.25. If the remaining volume of soup is not enough to complete the operation, we will serve as much as possible. We stop once we no longer have some quantity of both types of soup.\n",
    "\n",
    "*Note: that we do not have an operation where all 100 ml's of soup B are used first.\n",
    "\n",
    "**Return the probability that soup A will be empty first, plus half the probability that A and B become empty at the same time. Answers within 10-5 of the actual answer will be accepted."
   ]
  },
  {
   "cell_type": "code",
   "execution_count": null,
   "id": "b1da9065",
   "metadata": {},
   "outputs": [],
   "source": [
    "class Solution(object): \n",
    "    def soupHelper(self, A, B, state):\n",
    "        if (A, B) in state:\n",
    "            return state[A, B]\n",
    "        \n",
    "        if A <=0 or B <= 0:\n",
    "            if A <= 0 and B <= 0:\n",
    "                return 0.5\n",
    "            if B > 0:\n",
    "                return 1\n",
    "            return 0\n",
    "        prob = 0\n",
    "        prob += self.soupHelper(A - 100, B, state)\n",
    "        prob += self.soupHelper(A - 75, B - 25, state)\n",
    "        prob += self.soupHelper(A - 50, B - 50, state)\n",
    "        prob += self.soupHelper(A - 25, B - 75, state)\n",
    "        state[A, B] = 0.25 * prob\n",
    "        return state[A, B]\n",
    "        \n",
    "    def soupServings(self, N):\n",
    "        \"\"\"\n",
    "        :type N: int\n",
    "        :rtype: float\n",
    "        \"\"\"\n",
    "        if N > 4800:\n",
    "            return 1.\n",
    "        state = dict()\n",
    "        prob = self.soupHelper(N, N, state)\n",
    "        return prob"
   ]
  },
  {
   "cell_type": "code",
   "execution_count": null,
   "id": "ede93e89",
   "metadata": {},
   "outputs": [],
   "source": []
  },
  {
   "cell_type": "code",
   "execution_count": null,
   "id": "b2e75664",
   "metadata": {},
   "outputs": [],
   "source": []
  },
  {
   "cell_type": "code",
   "execution_count": null,
   "id": "d90a1cb3",
   "metadata": {},
   "outputs": [],
   "source": []
  },
  {
   "cell_type": "code",
   "execution_count": 11,
   "id": "41803352",
   "metadata": {},
   "outputs": [
    {
     "ename": "SyntaxError",
     "evalue": "invalid syntax (4154100075.py, line 3)",
     "output_type": "error",
     "traceback": [
      "\u001b[0;36m  File \u001b[0;32m\"/tmp/ipykernel_14/4154100075.py\"\u001b[0;36m, line \u001b[0;32m3\u001b[0m\n\u001b[0;31m    Explanation: If we choose the first two operations, A will become empty first.\u001b[0m\n\u001b[0m                     ^\u001b[0m\n\u001b[0;31mSyntaxError\u001b[0m\u001b[0;31m:\u001b[0m invalid syntax\n"
     ]
    }
   ],
   "source": [
    "\n",
    "\n",
    "\n",
    "\n",
    "\n",
    "\n",
    "f(a,b) means the result probability for a ml of soup A and b ml of soup B.\n",
    "f(a-4,b) means that we take the first operation: Serve 100 ml of soup A and 0 ml of soup B. \n",
    "f(a-3,b-1), f(a-2,b-2), f(a-1,b-3) are other 3 operations.\n",
    "Fibonacci sequence. It calculate every case for only once and it can be reused for every test case.\n",
    "It's obvious that A is easier to be empty than B. And when N gets bigger, we have less chance to run out of B first.\n",
    "So as N increases, our result increases and it gets closer to 100 percent = 1.\n"
   ]
  },
  {
   "cell_type": "code",
   "execution_count": null,
   "id": "da12cec5",
   "metadata": {},
   "outputs": [],
   "source": [
    "Input: n = 100\n",
    "Output: 0.71875"
   ]
  },
  {
   "cell_type": "code",
   "execution_count": null,
   "id": "14fbe1b5",
   "metadata": {},
   "outputs": [],
   "source": []
  },
  {
   "cell_type": "code",
   "execution_count": null,
   "id": "3ca1040c",
   "metadata": {},
   "outputs": [],
   "source": []
  },
  {
   "cell_type": "code",
   "execution_count": null,
   "id": "c6bb9541",
   "metadata": {},
   "outputs": [],
   "source": []
  },
  {
   "cell_type": "code",
   "execution_count": null,
   "id": "de228973",
   "metadata": {},
   "outputs": [],
   "source": []
  },
  {
   "cell_type": "code",
   "execution_count": null,
   "id": "8e50099c",
   "metadata": {},
   "outputs": [],
   "source": []
  },
  {
   "cell_type": "code",
   "execution_count": null,
   "id": "ac1a549f",
   "metadata": {},
   "outputs": [],
   "source": []
  }
 ],
 "metadata": {
  "kernelspec": {
   "display_name": "Python 3 (ipykernel)",
   "language": "python",
   "name": "python3"
  },
  "language_info": {
   "codemirror_mode": {
    "name": "ipython",
    "version": 3
   },
   "file_extension": ".py",
   "mimetype": "text/x-python",
   "name": "python",
   "nbconvert_exporter": "python",
   "pygments_lexer": "ipython3",
   "version": "3.7.12"
  }
 },
 "nbformat": 4,
 "nbformat_minor": 5
}
